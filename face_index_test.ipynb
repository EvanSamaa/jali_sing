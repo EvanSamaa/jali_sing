{
 "cells": [
  {
   "cell_type": "code",
   "execution_count": 2,
   "metadata": {
    "scrolled": true
   },
   "outputs": [
    {
     "name": "stdout",
     "output_type": "stream",
     "text": [
      "Processing c:\\users\\evansamaa\\appdata\\local\\pip\\cache\\wheels\\56\\dc\\2b\\9cd600d483c04af3353d66623056fc03faed76b7518faae4df\\moviepy-1.0.3-py3-none-any.whl\n",
      "Requirement already satisfied: imageio<3.0,>=2.5; python_version >= \"3.4\" in c:\\users\\evansamaa\\anaconda3\\lib\\site-packages (from moviepy) (2.6.1)\n",
      "Requirement already satisfied: tqdm<5.0,>=4.11.2 in c:\\users\\evansamaa\\anaconda3\\lib\\site-packages (from moviepy) (4.42.1)\n",
      "Requirement already satisfied: requests<3.0,>=2.8.1 in c:\\users\\evansamaa\\anaconda3\\lib\\site-packages (from moviepy) (2.22.0)\n",
      "Requirement already satisfied: numpy; python_version >= \"2.7\" in c:\\users\\evansamaa\\anaconda3\\lib\\site-packages (from moviepy) (1.21.2)\n",
      "Collecting imageio-ffmpeg>=0.2.0; python_version >= \"3.4\"\n",
      "  Using cached imageio_ffmpeg-0.4.5-py3-none-win_amd64.whl (22.6 MB)\n",
      "Processing c:\\users\\evansamaa\\appdata\\local\\pip\\cache\\wheels\\12\\36\\1f\\dc61e6ac10781d63cf6fa045eb09fa613a667384e12cb6e6e0\\proglog-0.1.9-py3-none-any.whl\n",
      "Requirement already satisfied: decorator<5.0,>=4.0.2 in c:\\users\\evansamaa\\anaconda3\\lib\\site-packages (from moviepy) (4.4.1)\n",
      "Requirement already satisfied: pillow in c:\\users\\evansamaa\\anaconda3\\lib\\site-packages (from imageio<3.0,>=2.5; python_version >= \"3.4\"->moviepy) (7.0.0)\n",
      "Requirement already satisfied: certifi>=2017.4.17 in c:\\users\\evansamaa\\anaconda3\\lib\\site-packages (from requests<3.0,>=2.8.1->moviepy) (2019.11.28)\n",
      "Requirement already satisfied: chardet<3.1.0,>=3.0.2 in c:\\users\\evansamaa\\anaconda3\\lib\\site-packages (from requests<3.0,>=2.8.1->moviepy) (3.0.4)\n",
      "Requirement already satisfied: urllib3!=1.25.0,!=1.25.1,<1.26,>=1.21.1 in c:\\users\\evansamaa\\anaconda3\\lib\\site-packages (from requests<3.0,>=2.8.1->moviepy) (1.25.8)\n",
      "Requirement already satisfied: idna<2.9,>=2.5 in c:\\users\\evansamaa\\anaconda3\\lib\\site-packages (from requests<3.0,>=2.8.1->moviepy) (2.8)\n",
      "Installing collected packages: imageio-ffmpeg, proglog, moviepy\n",
      "Successfully installed imageio-ffmpeg-0.4.5 moviepy-1.0.3 proglog-0.1.9\n"
     ]
    }
   ],
   "source": [
    "import sys\n",
    "!{sys.executable} -m pip install moviepy"
   ]
  },
  {
   "cell_type": "code",
   "execution_count": 1,
   "metadata": {
    "scrolled": true
   },
   "outputs": [],
   "source": [
    "from tqdm import tqdm\n",
    "import mediapipe as mp\n",
    "import os\n",
    "import shutil\n",
    "import json\n",
    "import time\n",
    "from util.ioUtil import *\n",
    "import numpy as np\n",
    "from scipy.spatial.transform import Rotation\n",
    "from matplotlib import pyplot as plt"
   ]
  },
  {
   "cell_type": "code",
   "execution_count": 2,
   "metadata": {},
   "outputs": [],
   "source": [
    "def rotation_matrix_from_vectors(vec1, vec2):\n",
    "    \"\"\" Find the rotation matrix that aligns vec1 to vec2\n",
    "    :param vec1: A 3d \"source\" vector\n",
    "    :param vec2: A 3d \"destination\" vector\n",
    "    :return mat: A transform matrix (3x3) which when applied to vec1, aligns it with vec2.\n",
    "    \"\"\"\n",
    "    a, b = (vec1 / np.linalg.norm(vec1)).reshape(3), (vec2 / np.linalg.norm(vec2)).reshape(3)\n",
    "    v = np.cross(a, b)\n",
    "    c = np.dot(a, b)\n",
    "    s = np.linalg.norm(v)\n",
    "    kmat = np.array([[0, -v[2], v[1]], [v[2], 0, -v[0]], [-v[1], v[0], 0]])\n",
    "    rotation_matrix = np.eye(3) + kmat + kmat.dot(kmat) * ((1 - c) / (s ** 2))\n",
    "    return rotation_matrix"
   ]
  },
  {
   "cell_type": "code",
   "execution_count": 3,
   "metadata": {},
   "outputs": [],
   "source": [
    "mp_drawing = mp.solutions.drawing_utils\n",
    "mp_drawing_styles = mp.solutions.drawing_styles\n",
    "mp_face_mesh = mp.solutions.face_mesh\n",
    "landmark_output = []\n",
    "tolerance = 0.001\n",
    "file = \"C:/Users/evansamaa/Desktop/Jali_Experiments/ten_videos/grenade/grenade_3/frame176.jpg\"\n",
    "\n",
    "with mp_face_mesh.FaceMesh(\n",
    "        static_image_mode=True,\n",
    "        max_num_faces=1,\n",
    "        min_detection_confidence=0.5) as face_mesh:\n",
    "    imgs_arr = []\n",
    "    image = cv2.imread(file)\n",
    "    results = face_mesh.process(cv2.cvtColor(image, cv2.COLOR_BGR2RGB))\n",
    "    face_landmarks = results.multi_face_landmarks[0].landmark\n",
    "    land_mark_matrix_pts = np.zeros((468, 3))\n",
    "    for i in range(0, len(face_landmarks)):\n",
    "        land_mark_matrix_pts[i, 0] = face_landmarks[i].x\n",
    "        land_mark_matrix_pts[i, 1] = face_landmarks[i].y\n",
    "        land_mark_matrix_pts[i, 2] = face_landmarks[i].z\n",
    "    plane_pts = [land_mark_matrix_pts[98], land_mark_matrix_pts[327], land_mark_matrix_pts[168]]\n",
    "    # rotate the projected matrix to face the camerra\n",
    "    n = np.cross(plane_pts[2] - plane_pts[1], plane_pts[0] - plane_pts[1])\n",
    "    n = n / np.linalg.norm(n)\n",
    "    R = rotation_matrix_from_vectors(n, np.array([0, 0, 1]))\n",
    "    rotated_land_marks = np.expand_dims(land_mark_matrix_pts, axis=2)\n",
    "    R = np.expand_dims(R, axis=0)\n",
    "    rotated_land_marks = R @ rotated_land_marks\n",
    "    projected_land_marks = rotated_land_marks[:, 0:2, 0]\n",
    "    projected_land_marks = projected_land_marks - projected_land_marks[4]\n",
    "    \n",
    "    nose_ridge_vector = (projected_land_marks[6, :])\n",
    "    nose_ridge_vector = nose_ridge_vector / np.linalg.norm(nose_ridge_vector)\n",
    "    target_nose_ridge_direction = np.array([0, 1])\n",
    "    abs_angle_diff = np.arccos(np.dot(nose_ridge_vector, target_nose_ridge_direction))\n",
    "    theta = abs_angle_diff\n",
    "    r = np.array(((np.cos(theta), -np.sin(theta)),\n",
    "                  (np.sin(theta), np.cos(theta))))\n",
    "    diff = np.linalg.norm(r @ nose_ridge_vector - target_nose_ridge_direction)\n",
    "    if diff >= tolerance:\n",
    "        theta = - theta\n",
    "        r = np.array(((np.cos(theta), -np.sin(theta)),\n",
    "                      (np.sin(theta), np.cos(theta))))\n",
    "        if np.linalg.norm(r @ nose_ridge_vector - target_nose_ridge_direction) >= diff:\n",
    "            theta = - theta\n",
    "            r = np.array(((np.cos(theta), -np.sin(theta)),\n",
    "                          (np.sin(theta), np.cos(theta))))\n",
    "\n",
    "    normalized_landmark = np.expand_dims(r, axis=0) @ np.expand_dims(projected_land_marks, axis=2)\n",
    "    landmark_output = normalized_landmark[:, :, 0]"
   ]
  },
  {
   "cell_type": "code",
   "execution_count": 4,
   "metadata": {},
   "outputs": [
    {
     "name": "stdout",
     "output_type": "stream",
     "text": [
      "(468, 2)\n"
     ]
    }
   ],
   "source": [
    "print(landmark_output.shape)"
   ]
  },
  {
   "cell_type": "code",
   "execution_count": 19,
   "metadata": {
    "scrolled": false
   },
   "outputs": [
    {
     "data": {
      "image/png": "[encoded data removed]",
      "text/plain": [
       "<Figure size 432x288 with 1 Axes>"
      ]
     },
     "metadata": {
      "needs_background": "light"
     },
     "output_type": "display_data"
    }
   ],
   "source": [
    "plt.scatter(landmark_output[:,0], landmark_output[:,1])\n",
    "    # plt.scatter(landmark_arr_i[4, 0], landmark_arr_i[4, 1])\n",
    "    # plt.scatter(landmark_arr_i[98, 0], landmark_arr_i[98, 1])\n",
    "    # plt.scatter(landmark_arr_i[327, 0], landmark_arr_i[327, 1])\n",
    "    # plt.show()\n",
    "plt.show()"
   ]
  },
  {
   "cell_type": "code",
   "execution_count": 6,
   "metadata": {},
   "outputs": [],
   "source": [
    "file_mediapipe = \"C:\\\\Users\\\\evansamaa\\\\Desktop\\\\Jali_Experiments\\\\ten_videos\\\\I_dont_love_you\\\\I_dont_love_you_short\\\\mediapipe_landmark.npy\"\n",
    "file_cv = \"C:\\\\Users\\\\evansamaa\\\\Desktop\\\\Jali_Experiments\\\\ten_videos\\\\I_dont_love_you\\\\I_dont_love_you_short\\\\cv_landmark.npy\""
   ]
  },
  {
   "cell_type": "code",
   "execution_count": 7,
   "metadata": {},
   "outputs": [],
   "source": [
    "cv_arr = np.load(file_cv)\n",
    "mp_arr = np.load(file_mediapipe)"
   ]
  },
  {
   "cell_type": "code",
   "execution_count": 9,
   "metadata": {},
   "outputs": [],
   "source": [
    "cv_arr_mod = cv_arr/2\n",
    "\n",
    "    "
   ]
  },
  {
   "cell_type": "code",
   "execution_count": 27,
   "metadata": {
    "scrolled": true
   },
   "outputs": [
    {
     "data": {
      "image/png": "[encoded data removed]",
      "text/plain": [
       "<Figure size 432x288 with 1 Axes>"
      ]
     },
     "metadata": {
      "needs_background": "light"
     },
     "output_type": "display_data"
    }
   ],
   "source": [
    "i = 1\n",
    "k =292\n",
    "# plt.scatter(cv_arr_mod[i,:,0], cv_arr_mod[i,:,1])\n",
    "plt.scatter(mp_arr[i,:,0], mp_arr[i,:,1])\n",
    "plt.scatter(mp_arr[i,k:k+1,0], mp_arr[i,k:k+1,1])\n",
    "\n",
    "plt.show()"
   ]
  },
  {
   "cell_type": "code",
   "execution_count": null,
   "metadata": {},
   "outputs": [],
   "source": [
    "upp_lip_list = [11, 312, 311, 310, 272, 415, 407, 308, 292\n",
    "               ]"
   ]
  },
  {
   "cell_type": "code",
   "execution_count": null,
   "metadata": {},
   "outputs": [],
   "source": []
  }
 ],
 "metadata": {
  "kernelspec": {
   "display_name": "visemenet",
   "language": "python",
   "name": "visemenet"
  },
  "language_info": {
   "codemirror_mode": {
    "name": "ipython",
    "version": 3
   },
   "file_extension": ".py",
   "mimetype": "text/x-python",
   "name": "python",
   "nbconvert_exporter": "python",
   "pygments_lexer": "ipython3",
   "version": "3.7.6"
  }
 },
 "nbformat": 4,
 "nbformat_minor": 4
}
