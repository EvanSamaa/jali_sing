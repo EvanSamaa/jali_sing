{
 "cells": [
  {
   "cell_type": "code",
   "execution_count": 2,
   "id": "dc42b6d4",
   "metadata": {},
   "outputs": [],
   "source": [
    "import mediapipe as mp\n",
    "from util.ioUtil import *\n",
    "import numpy as np\n",
    "from scipy.spatial.transform import Rotation\n",
    "from matplotlib import pyplot as plt\n",
    "import cv2"
   ]
  },
  {
   "cell_type": "code",
   "execution_count": null,
   "id": "6681a780",
   "metadata": {},
   "outputs": [],
   "source": [
    "file = \"E:/MASC/head_movement_video/raw_videos/grenade\"\n"
   ]
  }
 ],
 "metadata": {
  "kernelspec": {
   "display_name": "visemenet",
   "language": "python",
   "name": "visemenet"
  },
  "language_info": {
   "codemirror_mode": {
    "name": "ipython",
    "version": 3
   },
   "file_extension": ".py",
   "mimetype": "text/x-python",
   "name": "python",
   "nbconvert_exporter": "python",
   "pygments_lexer": "ipython3",
   "version": "3.8.11"
  }
 },
 "nbformat": 4,
 "nbformat_minor": 5
}
