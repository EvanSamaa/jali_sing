{
 "cells": [
  {
   "cell_type": "code",
   "execution_count": 1,
   "metadata": {},
   "outputs": [],
   "source": [
    "import torch as torch\n",
    "import os\n",
    "import librosa\n",
    "from matplotlib import pyplot as plt\n",
    "import numpy as np\n",
    "import csv\n",
    "import python_speech_features as psf"
   ]
  },
  {
   "cell_type": "code",
   "execution_count": 2,
   "metadata": {},
   "outputs": [],
   "source": [
    "import torch.nn as nn\n",
    "import torch\n",
    "import torch.nn.functional as F\n",
    "import torch.optim as optim\n",
    "import os\n",
    "import numpy as np\n",
    "from collections import OrderedDict\n",
    "import pandas as pd\n",
    "from torch.utils.data import DataLoader\n",
    "from torch.utils.data import Dataset\n",
    "from models.vowel_recognition_nodel import *"
   ]
  },
  {
   "cell_type": "markdown",
   "metadata": {},
   "source": [
    "## 1. Processing Data "
   ]
  },
  {
   "cell_type": "markdown",
   "metadata": {},
   "source": [
    "### Input block"
   ]
  },
  {
   "cell_type": "code",
   "execution_count": 3,
   "metadata": {},
   "outputs": [],
   "source": [
    "disk_root_dir = \"E:/\"\n",
    "dataset_path = \"MASC/VocalSet/FULL\"\n",
    "output_path_train = \"C:/Users/evansamaa/Desktop/Dataset/train\"\n",
    "output_path_test = \"C:/Users/evansamaa/Desktop/Dataset/test\"\n",
    "segment_length = 1.5 # seconds\n",
    "silence_threshold = 0.1\n",
    "n_mfcc = 13\n",
    "segment_length = int(segment_length * 100)"
   ]
  },
  {
   "cell_type": "code",
   "execution_count": null,
   "metadata": {},
   "outputs": [],
   "source": []
  },
  {
   "cell_type": "markdown",
   "metadata": {},
   "source": [
    "### Constant block"
   ]
  },
  {
   "cell_type": "code",
   "execution_count": 4,
   "metadata": {},
   "outputs": [],
   "source": [
    "trainset_f = [\"female1\",\"female3\",\"female4\",\"female5\",\"female6\",\"female7\",\"female9\"]\n",
    "trainset_m = [\"male1\", \"male2\", \"male4\",\"male6\",\"male7\",\"male8\",\"male9\",\"male11\"]\n",
    "train_set = trainset_f + trainset_m\n",
    "test_set = [\"female2\", \"female8\", \"male3\", \"male5\", \"male10\"]\n",
    "arpeggio_styles = [\"belt\", \"breathy\", \"fast_forte\", \"fast_piano\", \"slow_forte\", \"slow_piano\", \"straight\", \"vibrato\", \"vocal_fry\"]\n",
    "tasks = [\"arpeggios\", \"long_tones\", \"scales\"]\n",
    "long_tone_styles = [\"forte\", \"inhaled\", \"messa\", \"pp\", \"straight\", \"trill\", \"trillo\"]\n",
    "task_styles = {0:arpeggio_styles, 1:long_tone_styles, 2:arpeggio_styles,\n",
    "         \"arpeggios\":arpeggio_styles, \"long_tones\":long_tone_styles, \"scales\":arpeggio_styles}\n",
    "vowels = [\"a\", \"e\", \"i\", \"o\", \"u\"]\n",
    "vowels_dict = {\"a\":0, \"e\":1, \"i\":2, \"o\":3, \"u\":4}\n",
    "\n",
    "# output_path_train = os.path.join(disk_root_dir, output_path_train)\n",
    "# output_path_test = os.path.join(disk_root_dir, output_path_test)"
   ]
  },
  {
   "cell_type": "markdown",
   "metadata": {},
   "source": [
    "### 1.1 walk the directory structure"
   ]
  },
  {
   "cell_type": "code",
   "execution_count": 4,
   "metadata": {},
   "outputs": [
    {
     "name": "stdout",
     "output_type": "stream",
     "text": [
      "E:/MASC/VocalSet/FULL\\female4\\long_tones\\trill is missing frrom the dataset\n",
      "E:/MASC/VocalSet/FULL\\female2\\arpeggios\\vibrato is missing frrom the dataset\n"
     ]
    }
   ],
   "source": [
    "# do a walk and keep all the good examples\n",
    "training_data_folders = []\n",
    "dataset_path = os.path.join(disk_root_dir, dataset_path)\n",
    "# lets do a walk across all the folders for the training set\n",
    "for singer in train_set:\n",
    "    for task in tasks:\n",
    "        styles = task_styles[task]\n",
    "        for style in styles:\n",
    "            path = os.path.join(dataset_path, singer, task, style)\n",
    "            try:\n",
    "                os.listdir(path)\n",
    "                training_data_folders.append(path)\n",
    "            except:\n",
    "                print(path, \"is missing frrom the dataset\")\n",
    "                \n",
    "# do the same for testing set\n",
    "testing_data_folders = []\n",
    "for singer in test_set:\n",
    "    for task in tasks:\n",
    "        styles = task_styles[task]\n",
    "        for style in styles:\n",
    "            path = os.path.join(dataset_path, singer, task, style)\n",
    "            try:\n",
    "                os.listdir(path)\n",
    "                testing_data_folders.append(path)\n",
    "            except:\n",
    "                print(path, \"is missing frrom the dataset\")\n",
    "                "
   ]
  },
  {
   "cell_type": "markdown",
   "metadata": {},
   "source": [
    "### 1.2 Seperate audio to segments used to train DON'T RUN AGAIN!"
   ]
  },
  {
   "cell_type": "code",
   "execution_count": null,
   "metadata": {},
   "outputs": [
    {
     "name": "stderr",
     "output_type": "stream",
     "text": [
      "ERROR:root:Internal Python error in the inspect module.\n",
      "Below is the traceback from this internal error.\n",
      "\n",
      "ERROR:root:Internal Python error in the inspect module.\n",
      "Below is the traceback from this internal error.\n",
      "\n"
     ]
    },
    {
     "name": "stdout",
     "output_type": "stream",
     "text": [
      "Traceback (most recent call last):\n",
      "  File \"C:\\Users\\evansamaa\\anaconda3\\envs\\visemenet\\lib\\site-packages\\IPython\\core\\interactiveshell.py\", line 3444, in run_code\n",
      "    exec(code_obj, self.user_global_ns, self.user_ns)\n",
      "  File \"C:\\Users\\EVANSA~1\\AppData\\Local\\Temp/ipykernel_5872/3389862391.py\", line 20, in <module>\n",
      "    logfbank_feat = psf.logfbank(sound_arr, samplerate=sr, winlen=0.02, nfft = 2*441, nfilt=26)\n",
      "  File \"C:\\Users\\evansamaa\\anaconda3\\envs\\visemenet\\lib\\site-packages\\python_speech_features\\base.py\", line 81, in logfbank\n",
      "    feat,energy = fbank(signal,samplerate,winlen,winstep,nfilt,nfft,lowfreq,highfreq,preemph)\n",
      "  File \"C:\\Users\\evansamaa\\anaconda3\\envs\\visemenet\\lib\\site-packages\\python_speech_features\\base.py\", line 56, in fbank\n",
      "    pspec = sigproc.powspec(frames,nfft)\n",
      "  File \"C:\\Users\\evansamaa\\anaconda3\\envs\\visemenet\\lib\\site-packages\\python_speech_features\\sigproc.py\", line 93, in powspec\n",
      "    return 1.0/NFFT * numpy.square(magspec(frames,NFFT))\n",
      "  File \"C:\\Users\\evansamaa\\anaconda3\\envs\\visemenet\\lib\\site-packages\\python_speech_features\\sigproc.py\", line 84, in magspec\n",
      "    return numpy.absolute(complex_spec)\n",
      "KeyboardInterrupt\n",
      "\n",
      "During handling of the above exception, another exception occurred:\n",
      "\n",
      "Traceback (most recent call last):\n",
      "  File \"C:\\Users\\evansamaa\\anaconda3\\envs\\visemenet\\lib\\site-packages\\IPython\\core\\interactiveshell.py\", line 2064, in showtraceback\n",
      "    stb = value._render_traceback_()\n",
      "AttributeError: 'KeyboardInterrupt' object has no attribute '_render_traceback_'\n",
      "\n",
      "During handling of the above exception, another exception occurred:\n",
      "\n",
      "Traceback (most recent call last):\n",
      "  File \"C:\\Users\\evansamaa\\anaconda3\\envs\\visemenet\\lib\\site-packages\\IPython\\core\\ultratb.py\", line 1101, in get_records\n",
      "    return _fixed_getinnerframes(etb, number_of_lines_of_context, tb_offset)\n",
      "  File \"C:\\Users\\evansamaa\\anaconda3\\envs\\visemenet\\lib\\site-packages\\IPython\\core\\ultratb.py\", line 248, in wrapped\n",
      "    return f(*args, **kwargs)\n",
      "  File \"C:\\Users\\evansamaa\\anaconda3\\envs\\visemenet\\lib\\site-packages\\IPython\\core\\ultratb.py\", line 281, in _fixed_getinnerframes\n",
      "    records = fix_frame_records_filenames(inspect.getinnerframes(etb, context))\n",
      "  File \"C:\\Users\\evansamaa\\anaconda3\\envs\\visemenet\\lib\\inspect.py\", line 1515, in getinnerframes\n",
      "    frameinfo = (tb.tb_frame,) + getframeinfo(tb, context)\n",
      "  File \"C:\\Users\\evansamaa\\anaconda3\\envs\\visemenet\\lib\\inspect.py\", line 1473, in getframeinfo\n",
      "    filename = getsourcefile(frame) or getfile(frame)\n",
      "  File \"C:\\Users\\evansamaa\\anaconda3\\envs\\visemenet\\lib\\inspect.py\", line 708, in getsourcefile\n",
      "    if getattr(getmodule(object, filename), '__loader__', None) is not None:\n",
      "  File \"C:\\Users\\evansamaa\\anaconda3\\envs\\visemenet\\lib\\inspect.py\", line 754, in getmodule\n",
      "    os.path.realpath(f)] = module.__name__\n",
      "  File \"C:\\Users\\evansamaa\\anaconda3\\envs\\visemenet\\lib\\ntpath.py\", line 664, in realpath\n",
      "    if _getfinalpathname(spath) == path:\n",
      "KeyboardInterrupt\n",
      "Traceback (most recent call last):\n",
      "  File \"C:\\Users\\evansamaa\\anaconda3\\envs\\visemenet\\lib\\site-packages\\IPython\\core\\interactiveshell.py\", line 3444, in run_code\n",
      "    exec(code_obj, self.user_global_ns, self.user_ns)\n",
      "  File \"C:\\Users\\EVANSA~1\\AppData\\Local\\Temp/ipykernel_5872/3389862391.py\", line 20, in <module>\n",
      "    logfbank_feat = psf.logfbank(sound_arr, samplerate=sr, winlen=0.02, nfft = 2*441, nfilt=26)\n",
      "  File \"C:\\Users\\evansamaa\\anaconda3\\envs\\visemenet\\lib\\site-packages\\python_speech_features\\base.py\", line 81, in logfbank\n",
      "    feat,energy = fbank(signal,samplerate,winlen,winstep,nfilt,nfft,lowfreq,highfreq,preemph)\n",
      "  File \"C:\\Users\\evansamaa\\anaconda3\\envs\\visemenet\\lib\\site-packages\\python_speech_features\\base.py\", line 56, in fbank\n",
      "    pspec = sigproc.powspec(frames,nfft)\n",
      "  File \"C:\\Users\\evansamaa\\anaconda3\\envs\\visemenet\\lib\\site-packages\\python_speech_features\\sigproc.py\", line 93, in powspec\n",
      "    return 1.0/NFFT * numpy.square(magspec(frames,NFFT))\n",
      "  File \"C:\\Users\\evansamaa\\anaconda3\\envs\\visemenet\\lib\\site-packages\\python_speech_features\\sigproc.py\", line 84, in magspec\n",
      "    return numpy.absolute(complex_spec)\n",
      "KeyboardInterrupt\n",
      "\n",
      "During handling of the above exception, another exception occurred:\n",
      "\n",
      "Traceback (most recent call last):\n",
      "  File \"C:\\Users\\evansamaa\\anaconda3\\envs\\visemenet\\lib\\site-packages\\IPython\\core\\interactiveshell.py\", line 2064, in showtraceback\n",
      "    stb = value._render_traceback_()\n",
      "AttributeError: 'KeyboardInterrupt' object has no attribute '_render_traceback_'\n",
      "\n",
      "During handling of the above exception, another exception occurred:\n",
      "\n",
      "Traceback (most recent call last):\n",
      "  File \"C:\\Users\\evansamaa\\anaconda3\\envs\\visemenet\\lib\\site-packages\\IPython\\core\\interactiveshell.py\", line 3364, in run_ast_nodes\n",
      "    if (await self.run_code(code, result,  async_=asy)):\n",
      "  File \"C:\\Users\\evansamaa\\anaconda3\\envs\\visemenet\\lib\\site-packages\\IPython\\core\\interactiveshell.py\", line 3461, in run_code\n",
      "    self.showtraceback(running_compiled_code=True)\n",
      "  File \"C:\\Users\\evansamaa\\anaconda3\\envs\\visemenet\\lib\\site-packages\\IPython\\core\\interactiveshell.py\", line 2066, in showtraceback\n",
      "    stb = self.InteractiveTB.structured_traceback(etype,\n",
      "  File \"C:\\Users\\evansamaa\\anaconda3\\envs\\visemenet\\lib\\site-packages\\IPython\\core\\ultratb.py\", line 1367, in structured_traceback\n",
      "    return FormattedTB.structured_traceback(\n",
      "  File \"C:\\Users\\evansamaa\\anaconda3\\envs\\visemenet\\lib\\site-packages\\IPython\\core\\ultratb.py\", line 1267, in structured_traceback\n",
      "    return VerboseTB.structured_traceback(\n",
      "  File \"C:\\Users\\evansamaa\\anaconda3\\envs\\visemenet\\lib\\site-packages\\IPython\\core\\ultratb.py\", line 1124, in structured_traceback\n",
      "    formatted_exception = self.format_exception_as_a_whole(etype, evalue, etb, number_of_lines_of_context,\n",
      "  File \"C:\\Users\\evansamaa\\anaconda3\\envs\\visemenet\\lib\\site-packages\\IPython\\core\\ultratb.py\", line 1082, in format_exception_as_a_whole\n",
      "    last_unique, recursion_repeat = find_recursion(orig_etype, evalue, records)\n",
      "  File \"C:\\Users\\evansamaa\\anaconda3\\envs\\visemenet\\lib\\site-packages\\IPython\\core\\ultratb.py\", line 382, in find_recursion\n",
      "    return len(records), 0\n",
      "TypeError: object of type 'NoneType' has no len()\n",
      "\n",
      "During handling of the above exception, another exception occurred:\n",
      "\n",
      "Traceback (most recent call last):\n",
      "  File \"C:\\Users\\evansamaa\\anaconda3\\envs\\visemenet\\lib\\site-packages\\IPython\\core\\interactiveshell.py\", line 2064, in showtraceback\n",
      "    stb = value._render_traceback_()\n",
      "AttributeError: 'TypeError' object has no attribute '_render_traceback_'\n",
      "\n",
      "During handling of the above exception, another exception occurred:\n",
      "\n",
      "Traceback (most recent call last):\n",
      "  File \"C:\\Users\\evansamaa\\anaconda3\\envs\\visemenet\\lib\\site-packages\\IPython\\core\\ultratb.py\", line 1101, in get_records\n",
      "    return _fixed_getinnerframes(etb, number_of_lines_of_context, tb_offset)\n",
      "  File \"C:\\Users\\evansamaa\\anaconda3\\envs\\visemenet\\lib\\site-packages\\IPython\\core\\ultratb.py\", line 248, in wrapped\n",
      "    return f(*args, **kwargs)\n",
      "  File \"C:\\Users\\evansamaa\\anaconda3\\envs\\visemenet\\lib\\site-packages\\IPython\\core\\ultratb.py\", line 281, in _fixed_getinnerframes\n",
      "    records = fix_frame_records_filenames(inspect.getinnerframes(etb, context))\n",
      "  File \"C:\\Users\\evansamaa\\anaconda3\\envs\\visemenet\\lib\\inspect.py\", line 1515, in getinnerframes\n",
      "    frameinfo = (tb.tb_frame,) + getframeinfo(tb, context)\n",
      "  File \"C:\\Users\\evansamaa\\anaconda3\\envs\\visemenet\\lib\\inspect.py\", line 1473, in getframeinfo\n",
      "    filename = getsourcefile(frame) or getfile(frame)\n",
      "  File \"C:\\Users\\evansamaa\\anaconda3\\envs\\visemenet\\lib\\inspect.py\", line 708, in getsourcefile\n",
      "    if getattr(getmodule(object, filename), '__loader__', None) is not None:\n",
      "  File \"C:\\Users\\evansamaa\\anaconda3\\envs\\visemenet\\lib\\inspect.py\", line 754, in getmodule\n",
      "    os.path.realpath(f)] = module.__name__\n",
      "  File \"C:\\Users\\evansamaa\\anaconda3\\envs\\visemenet\\lib\\ntpath.py\", line 647, in realpath\n",
      "    path = _getfinalpathname(path)\n",
      "KeyboardInterrupt\n"
     ]
    },
    {
     "name": "stderr",
     "output_type": "stream",
     "text": [
      "ERROR:root:Internal Python error in the inspect module.\n",
      "Below is the traceback from this internal error.\n",
      "\n"
     ]
    },
    {
     "name": "stdout",
     "output_type": "stream",
     "text": [
      "Traceback (most recent call last):\n",
      "  File \"C:\\Users\\evansamaa\\anaconda3\\envs\\visemenet\\lib\\site-packages\\IPython\\core\\interactiveshell.py\", line 3444, in run_code\n",
      "    exec(code_obj, self.user_global_ns, self.user_ns)\n",
      "  File \"C:\\Users\\EVANSA~1\\AppData\\Local\\Temp/ipykernel_5872/3389862391.py\", line 20, in <module>\n",
      "    logfbank_feat = psf.logfbank(sound_arr, samplerate=sr, winlen=0.02, nfft = 2*441, nfilt=26)\n",
      "  File \"C:\\Users\\evansamaa\\anaconda3\\envs\\visemenet\\lib\\site-packages\\python_speech_features\\base.py\", line 81, in logfbank\n",
      "    feat,energy = fbank(signal,samplerate,winlen,winstep,nfilt,nfft,lowfreq,highfreq,preemph)\n",
      "  File \"C:\\Users\\evansamaa\\anaconda3\\envs\\visemenet\\lib\\site-packages\\python_speech_features\\base.py\", line 56, in fbank\n",
      "    pspec = sigproc.powspec(frames,nfft)\n",
      "  File \"C:\\Users\\evansamaa\\anaconda3\\envs\\visemenet\\lib\\site-packages\\python_speech_features\\sigproc.py\", line 93, in powspec\n",
      "    return 1.0/NFFT * numpy.square(magspec(frames,NFFT))\n",
      "  File \"C:\\Users\\evansamaa\\anaconda3\\envs\\visemenet\\lib\\site-packages\\python_speech_features\\sigproc.py\", line 84, in magspec\n",
      "    return numpy.absolute(complex_spec)\n",
      "KeyboardInterrupt\n",
      "\n",
      "During handling of the above exception, another exception occurred:\n",
      "\n",
      "Traceback (most recent call last):\n",
      "  File \"C:\\Users\\evansamaa\\anaconda3\\envs\\visemenet\\lib\\site-packages\\IPython\\core\\interactiveshell.py\", line 2064, in showtraceback\n",
      "    stb = value._render_traceback_()\n",
      "AttributeError: 'KeyboardInterrupt' object has no attribute '_render_traceback_'\n",
      "\n",
      "During handling of the above exception, another exception occurred:\n",
      "\n",
      "Traceback (most recent call last):\n",
      "  File \"C:\\Users\\evansamaa\\anaconda3\\envs\\visemenet\\lib\\site-packages\\IPython\\core\\interactiveshell.py\", line 3364, in run_ast_nodes\n",
      "    if (await self.run_code(code, result,  async_=asy)):\n",
      "  File \"C:\\Users\\evansamaa\\anaconda3\\envs\\visemenet\\lib\\site-packages\\IPython\\core\\interactiveshell.py\", line 3461, in run_code\n",
      "    self.showtraceback(running_compiled_code=True)\n",
      "  File \"C:\\Users\\evansamaa\\anaconda3\\envs\\visemenet\\lib\\site-packages\\IPython\\core\\interactiveshell.py\", line 2066, in showtraceback\n",
      "    stb = self.InteractiveTB.structured_traceback(etype,\n",
      "  File \"C:\\Users\\evansamaa\\anaconda3\\envs\\visemenet\\lib\\site-packages\\IPython\\core\\ultratb.py\", line 1367, in structured_traceback\n",
      "    return FormattedTB.structured_traceback(\n",
      "  File \"C:\\Users\\evansamaa\\anaconda3\\envs\\visemenet\\lib\\site-packages\\IPython\\core\\ultratb.py\", line 1267, in structured_traceback\n",
      "    return VerboseTB.structured_traceback(\n",
      "  File \"C:\\Users\\evansamaa\\anaconda3\\envs\\visemenet\\lib\\site-packages\\IPython\\core\\ultratb.py\", line 1124, in structured_traceback\n",
      "    formatted_exception = self.format_exception_as_a_whole(etype, evalue, etb, number_of_lines_of_context,\n",
      "  File \"C:\\Users\\evansamaa\\anaconda3\\envs\\visemenet\\lib\\site-packages\\IPython\\core\\ultratb.py\", line 1082, in format_exception_as_a_whole\n",
      "    last_unique, recursion_repeat = find_recursion(orig_etype, evalue, records)\n",
      "  File \"C:\\Users\\evansamaa\\anaconda3\\envs\\visemenet\\lib\\site-packages\\IPython\\core\\ultratb.py\", line 382, in find_recursion\n",
      "    return len(records), 0\n",
      "TypeError: object of type 'NoneType' has no len()\n",
      "\n",
      "During handling of the above exception, another exception occurred:\n",
      "\n",
      "Traceback (most recent call last):\n",
      "  File \"C:\\Users\\evansamaa\\anaconda3\\envs\\visemenet\\lib\\site-packages\\IPython\\core\\interactiveshell.py\", line 2064, in showtraceback\n",
      "    stb = value._render_traceback_()\n",
      "AttributeError: 'TypeError' object has no attribute '_render_traceback_'\n",
      "\n",
      "During handling of the above exception, another exception occurred:\n",
      "\n",
      "Traceback (most recent call last):\n",
      "  File \"C:\\Users\\evansamaa\\anaconda3\\envs\\visemenet\\lib\\site-packages\\IPython\\core\\interactiveshell.py\", line 2947, in _run_cell\n",
      "    return runner(coro)\n",
      "  File \"C:\\Users\\evansamaa\\anaconda3\\envs\\visemenet\\lib\\site-packages\\IPython\\core\\async_helpers.py\", line 68, in _pseudo_sync_runner\n",
      "    coro.send(None)\n",
      "  File \"C:\\Users\\evansamaa\\anaconda3\\envs\\visemenet\\lib\\site-packages\\IPython\\core\\interactiveshell.py\", line 3172, in run_cell_async\n",
      "    has_raised = await self.run_ast_nodes(code_ast.body, cell_name,\n",
      "  File \"C:\\Users\\evansamaa\\anaconda3\\envs\\visemenet\\lib\\site-packages\\IPython\\core\\interactiveshell.py\", line 3383, in run_ast_nodes\n",
      "    self.showtraceback()\n",
      "  File \"C:\\Users\\evansamaa\\anaconda3\\envs\\visemenet\\lib\\site-packages\\IPython\\core\\interactiveshell.py\", line 2066, in showtraceback\n",
      "    stb = self.InteractiveTB.structured_traceback(etype,\n",
      "  File \"C:\\Users\\evansamaa\\anaconda3\\envs\\visemenet\\lib\\site-packages\\IPython\\core\\ultratb.py\", line 1367, in structured_traceback\n",
      "    return FormattedTB.structured_traceback(\n",
      "  File \"C:\\Users\\evansamaa\\anaconda3\\envs\\visemenet\\lib\\site-packages\\IPython\\core\\ultratb.py\", line 1267, in structured_traceback\n",
      "    return VerboseTB.structured_traceback(\n",
      "  File \"C:\\Users\\evansamaa\\anaconda3\\envs\\visemenet\\lib\\site-packages\\IPython\\core\\ultratb.py\", line 1142, in structured_traceback\n",
      "    formatted_exceptions += self.format_exception_as_a_whole(etype, evalue, etb, lines_of_context,\n",
      "  File \"C:\\Users\\evansamaa\\anaconda3\\envs\\visemenet\\lib\\site-packages\\IPython\\core\\ultratb.py\", line 1082, in format_exception_as_a_whole\n",
      "    last_unique, recursion_repeat = find_recursion(orig_etype, evalue, records)\n",
      "  File \"C:\\Users\\evansamaa\\anaconda3\\envs\\visemenet\\lib\\site-packages\\IPython\\core\\ultratb.py\", line 382, in find_recursion\n",
      "    return len(records), 0\n",
      "TypeError: object of type 'NoneType' has no len()\n",
      "\n",
      "During handling of the above exception, another exception occurred:\n",
      "\n",
      "Traceback (most recent call last):\n",
      "  File \"C:\\Users\\evansamaa\\anaconda3\\envs\\visemenet\\lib\\site-packages\\IPython\\core\\interactiveshell.py\", line 2064, in showtraceback\n",
      "    stb = value._render_traceback_()\n",
      "AttributeError: 'TypeError' object has no attribute '_render_traceback_'\n",
      "\n",
      "During handling of the above exception, another exception occurred:\n",
      "\n",
      "Traceback (most recent call last):\n",
      "  File \"C:\\Users\\evansamaa\\anaconda3\\envs\\visemenet\\lib\\site-packages\\IPython\\core\\ultratb.py\", line 1101, in get_records\n",
      "    return _fixed_getinnerframes(etb, number_of_lines_of_context, tb_offset)\n",
      "  File \"C:\\Users\\evansamaa\\anaconda3\\envs\\visemenet\\lib\\site-packages\\IPython\\core\\ultratb.py\", line 248, in wrapped\n",
      "    return f(*args, **kwargs)\n",
      "  File \"C:\\Users\\evansamaa\\anaconda3\\envs\\visemenet\\lib\\site-packages\\IPython\\core\\ultratb.py\", line 281, in _fixed_getinnerframes\n",
      "    records = fix_frame_records_filenames(inspect.getinnerframes(etb, context))\n",
      "  File \"C:\\Users\\evansamaa\\anaconda3\\envs\\visemenet\\lib\\inspect.py\", line 1515, in getinnerframes\n",
      "    frameinfo = (tb.tb_frame,) + getframeinfo(tb, context)\n",
      "  File \"C:\\Users\\evansamaa\\anaconda3\\envs\\visemenet\\lib\\inspect.py\", line 1473, in getframeinfo\n",
      "    filename = getsourcefile(frame) or getfile(frame)\n",
      "  File \"C:\\Users\\evansamaa\\anaconda3\\envs\\visemenet\\lib\\inspect.py\", line 708, in getsourcefile\n",
      "    if getattr(getmodule(object, filename), '__loader__', None) is not None:\n",
      "  File \"C:\\Users\\evansamaa\\anaconda3\\envs\\visemenet\\lib\\inspect.py\", line 754, in getmodule\n",
      "    os.path.realpath(f)] = module.__name__\n",
      "  File \"C:\\Users\\evansamaa\\anaconda3\\envs\\visemenet\\lib\\ntpath.py\", line 647, in realpath\n",
      "    path = _getfinalpathname(path)\n",
      "KeyboardInterrupt\n"
     ]
    }
   ],
   "source": [
    "import warnings\n",
    "warnings.filterwarnings(action='once')\n",
    "counter = 0\n",
    "training_annotation_file = []\n",
    "for folder in training_data_folders:\n",
    "    files = os.listdir(folder)\n",
    "    for file in files:\n",
    "        if file[-3:] != \"wav\":\n",
    "            continue\n",
    "        # OBTAIN THE AUDIO DATA AND THE MFCC COEFFICIENTS\n",
    "        try:\n",
    "            label = vowels_dict[file[-5]]\n",
    "            sound_arr, sr= librosa.load(os.path.join(folder, file), sr = 44100)\n",
    "            sound_arr = (sound_arr-sound_arr.mean())/sound_arr.std()\n",
    "        except:\n",
    "            print(\"fails at \" + os.path.join(folder, file))\n",
    "            continue\n",
    "        winstep = 441\n",
    "        mfcc_feat = psf.mfcc(sound_arr, samplerate=sr, winlen=0.02, nfft = 2*441, numcep=13)\n",
    "        logfbank_feat = psf.logfbank(sound_arr, samplerate=sr, winlen=0.02, nfft = 2*441, nfilt=26)\n",
    "        ssc_feat = psf.ssc(sound_arr, samplerate=sr, winlen=0.02, nfft = 2*441, nfilt=26)\n",
    "        full_feat = np.concatenate([mfcc_feat, logfbank_feat, ssc_feat], axis=1)\n",
    "        if full_feat.shape[0] < segment_length:\n",
    "            print(file)\n",
    "            continue\n",
    "        \n",
    "        # GENERATE A SET OF LABELS, IT CAN EITHER BE A SILENCE, OR A VOWEL\n",
    "        labels = []\n",
    "        for i in range(0, full_feat.shape[0]):\n",
    "            seg = sound_arr[i*441:(i+1)*441]\n",
    "            if np.abs(seg).mean() <= silence_threshold:\n",
    "                \n",
    "                labels.append(5)\n",
    "            else:\n",
    "                labels.append(label)\n",
    "        labels = np.array(labels)\n",
    "        split = np.floor(len(labels) /segment_length)\n",
    "        for i in range(0, int(split)):\n",
    "            np.save(os.path.join(output_path_train, \"{}_data.npy\".format(counter)), full_feat[i*segment_length:(i+1)*segment_length])\n",
    "            np.save(os.path.join(output_path_train, \"{}_label.npy\".format(counter)), labels[i*segment_length:(i+1)*segment_length])\n",
    "            training_annotation_file.append([os.path.join(output_path_train, \"{}_data.npy\".format(counter)), \n",
    "                                            os.path.join(output_path_train, \"{}_label.npy\".format(counter))])\n",
    "            counter = counter + 1\n",
    "        np.save(os.path.join(output_path_train, \"{}_data.npy\".format(counter)), full_feat[-segment_length:])\n",
    "        np.save(os.path.join(output_path_train, \"{}_label.npy\".format(counter)), labels[-segment_length:])\n",
    "        training_annotation_file.append([os.path.join(output_path_train, \"{}_data.npy\".format(counter)), \n",
    "                                            os.path.join(output_path_train, \"{}_label.npy\".format(counter))])\n",
    "        counter = counter + 1\n",
    "\n",
    "with open(os.path.join(output_path_train, 'annotations.csv'), 'w', newline='') as csvfile:\n",
    "    spamwriter = csv.writer(csvfile, delimiter=',')\n",
    "    for item in range(0, len(training_annotation_file)):\n",
    "        spamwriter.writerow(training_annotation_file[item])\n",
    "# M.shape = [time in 0.01 sec, number of mel features]"
   ]
  },
  {
   "cell_type": "markdown",
   "metadata": {},
   "source": [
    "### 1.3 Seperate audio to segments used to test DON'T RUN AGAIN!"
   ]
  },
  {
   "cell_type": "code",
   "execution_count": 5,
   "metadata": {},
   "outputs": [
    {
     "name": "stdout",
     "output_type": "stream",
     "text": [
      "ERROR! Session/line number was not unique in database. History logging moved to new session 155\n"
     ]
    },
    {
     "name": "stderr",
     "output_type": "stream",
     "text": [
      "C:\\Users\\evansamaa\\anaconda3\\envs\\visemenet\\lib\\site-packages\\numpy\\lib\\npyio.py:525: ResourceWarning: unclosed file <_io.BufferedWriter name='C:/Users/evansamaa/Desktop/Dataset/test\\\\0_data.npy'>\n",
      "  file_ctx = open(file, \"wb\")\n",
      "ResourceWarning: Enable tracemalloc to get the object allocation traceback\n"
     ]
    },
    {
     "ename": "KeyboardInterrupt",
     "evalue": "",
     "output_type": "error",
     "traceback": [
      "\u001b[1;31m---------------------------------------------------------------------------\u001b[0m",
      "\u001b[1;31mKeyboardInterrupt\u001b[0m                         Traceback (most recent call last)",
      "\u001b[1;32mC:\\Users\\EVANSA~1\\AppData\\Local\\Temp/ipykernel_5872/1182269615.py\u001b[0m in \u001b[0;36m<module>\u001b[1;34m\u001b[0m\n\u001b[0;32m     34\u001b[0m         \u001b[0msplit\u001b[0m \u001b[1;33m=\u001b[0m \u001b[0mnp\u001b[0m\u001b[1;33m.\u001b[0m\u001b[0mfloor\u001b[0m\u001b[1;33m(\u001b[0m\u001b[0mlen\u001b[0m\u001b[1;33m(\u001b[0m\u001b[0mlabels\u001b[0m\u001b[1;33m)\u001b[0m \u001b[1;33m/\u001b[0m \u001b[0msegment_length\u001b[0m\u001b[1;33m)\u001b[0m\u001b[1;33m\u001b[0m\u001b[1;33m\u001b[0m\u001b[0m\n\u001b[0;32m     35\u001b[0m         \u001b[1;32mfor\u001b[0m \u001b[0mi\u001b[0m \u001b[1;32min\u001b[0m \u001b[0mrange\u001b[0m\u001b[1;33m(\u001b[0m\u001b[1;36m0\u001b[0m\u001b[1;33m,\u001b[0m \u001b[0mint\u001b[0m\u001b[1;33m(\u001b[0m\u001b[0msplit\u001b[0m\u001b[1;33m)\u001b[0m\u001b[1;33m)\u001b[0m\u001b[1;33m:\u001b[0m\u001b[1;33m\u001b[0m\u001b[1;33m\u001b[0m\u001b[0m\n\u001b[1;32m---> 36\u001b[1;33m             \u001b[0mnp\u001b[0m\u001b[1;33m.\u001b[0m\u001b[0msave\u001b[0m\u001b[1;33m(\u001b[0m\u001b[0mos\u001b[0m\u001b[1;33m.\u001b[0m\u001b[0mpath\u001b[0m\u001b[1;33m.\u001b[0m\u001b[0mjoin\u001b[0m\u001b[1;33m(\u001b[0m\u001b[0moutput_path_test\u001b[0m\u001b[1;33m,\u001b[0m \u001b[1;34m\"{}_data.npy\"\u001b[0m\u001b[1;33m.\u001b[0m\u001b[0mformat\u001b[0m\u001b[1;33m(\u001b[0m\u001b[0mcounter\u001b[0m\u001b[1;33m)\u001b[0m\u001b[1;33m)\u001b[0m\u001b[1;33m,\u001b[0m \u001b[0mfull_feat\u001b[0m\u001b[1;33m[\u001b[0m\u001b[0mi\u001b[0m\u001b[1;33m*\u001b[0m\u001b[0msegment_length\u001b[0m\u001b[1;33m:\u001b[0m\u001b[1;33m(\u001b[0m\u001b[0mi\u001b[0m\u001b[1;33m+\u001b[0m\u001b[1;36m1\u001b[0m\u001b[1;33m)\u001b[0m\u001b[1;33m*\u001b[0m\u001b[0msegment_length\u001b[0m\u001b[1;33m]\u001b[0m\u001b[1;33m)\u001b[0m\u001b[1;33m\u001b[0m\u001b[1;33m\u001b[0m\u001b[0m\n\u001b[0m\u001b[0;32m     37\u001b[0m             \u001b[0mnp\u001b[0m\u001b[1;33m.\u001b[0m\u001b[0msave\u001b[0m\u001b[1;33m(\u001b[0m\u001b[0mos\u001b[0m\u001b[1;33m.\u001b[0m\u001b[0mpath\u001b[0m\u001b[1;33m.\u001b[0m\u001b[0mjoin\u001b[0m\u001b[1;33m(\u001b[0m\u001b[0moutput_path_test\u001b[0m\u001b[1;33m,\u001b[0m \u001b[1;34m\"{}_label.npy\"\u001b[0m\u001b[1;33m.\u001b[0m\u001b[0mformat\u001b[0m\u001b[1;33m(\u001b[0m\u001b[0mcounter\u001b[0m\u001b[1;33m)\u001b[0m\u001b[1;33m)\u001b[0m\u001b[1;33m,\u001b[0m \u001b[0mlabels\u001b[0m\u001b[1;33m[\u001b[0m\u001b[0mi\u001b[0m\u001b[1;33m*\u001b[0m\u001b[0msegment_length\u001b[0m\u001b[1;33m:\u001b[0m\u001b[1;33m(\u001b[0m\u001b[0mi\u001b[0m\u001b[1;33m+\u001b[0m\u001b[1;36m1\u001b[0m\u001b[1;33m)\u001b[0m\u001b[1;33m*\u001b[0m\u001b[0msegment_length\u001b[0m\u001b[1;33m]\u001b[0m\u001b[1;33m)\u001b[0m\u001b[1;33m\u001b[0m\u001b[1;33m\u001b[0m\u001b[0m\n\u001b[0;32m     38\u001b[0m             testing_annotation_file.append([os.path.join(output_path_test, \"{}_data.npy\".format(counter)), \n",
      "\u001b[1;32m<__array_function__ internals>\u001b[0m in \u001b[0;36msave\u001b[1;34m(*args, **kwargs)\u001b[0m\n",
      "\u001b[1;32m~\\anaconda3\\envs\\visemenet\\lib\\site-packages\\numpy\\lib\\npyio.py\u001b[0m in \u001b[0;36msave\u001b[1;34m(file, arr, allow_pickle, fix_imports)\u001b[0m\n\u001b[0;32m    523\u001b[0m         \u001b[1;32mif\u001b[0m \u001b[1;32mnot\u001b[0m \u001b[0mfile\u001b[0m\u001b[1;33m.\u001b[0m\u001b[0mendswith\u001b[0m\u001b[1;33m(\u001b[0m\u001b[1;34m'.npy'\u001b[0m\u001b[1;33m)\u001b[0m\u001b[1;33m:\u001b[0m\u001b[1;33m\u001b[0m\u001b[1;33m\u001b[0m\u001b[0m\n\u001b[0;32m    524\u001b[0m             \u001b[0mfile\u001b[0m \u001b[1;33m=\u001b[0m \u001b[0mfile\u001b[0m \u001b[1;33m+\u001b[0m \u001b[1;34m'.npy'\u001b[0m\u001b[1;33m\u001b[0m\u001b[1;33m\u001b[0m\u001b[0m\n\u001b[1;32m--> 525\u001b[1;33m         \u001b[0mfile_ctx\u001b[0m \u001b[1;33m=\u001b[0m \u001b[0mopen\u001b[0m\u001b[1;33m(\u001b[0m\u001b[0mfile\u001b[0m\u001b[1;33m,\u001b[0m \u001b[1;34m\"wb\"\u001b[0m\u001b[1;33m)\u001b[0m\u001b[1;33m\u001b[0m\u001b[1;33m\u001b[0m\u001b[0m\n\u001b[0m\u001b[0;32m    526\u001b[0m \u001b[1;33m\u001b[0m\u001b[0m\n\u001b[0;32m    527\u001b[0m     \u001b[1;32mwith\u001b[0m \u001b[0mfile_ctx\u001b[0m \u001b[1;32mas\u001b[0m \u001b[0mfid\u001b[0m\u001b[1;33m:\u001b[0m\u001b[1;33m\u001b[0m\u001b[1;33m\u001b[0m\u001b[0m\n",
      "\u001b[1;31mKeyboardInterrupt\u001b[0m: "
     ]
    }
   ],
   "source": [
    "counter = 0\n",
    "testing_annotation_file = []\n",
    "for folder in testing_data_folders:\n",
    "    files = os.listdir(folder)\n",
    "    for file in files:\n",
    "        if file[-3:] != \"wav\":\n",
    "            continue\n",
    "        # OBTAIN THE AUDIO DATA AND THE MFCC COEFFICIENTS\n",
    "        try:\n",
    "            label = vowels_dict[file[-5]]\n",
    "            sound_arr, sr= librosa.load(os.path.join(folder, file), sr = 44100)\n",
    "            sound_arr = (sound_arr-sound_arr.mean())/sound_arr.std()\n",
    "        except:\n",
    "            print(\"fails at \" + os.path.join(folder, file))\n",
    "            continue\n",
    "        winstep = 441\n",
    "        mfcc_feat = psf.mfcc(sound_arr, samplerate=sr, winlen=0.02, nfft = 2*441, numcep=13)\n",
    "        logfbank_feat = psf.logfbank(sound_arr, samplerate=sr, winlen=0.02, nfft = 2*441, nfilt=26)\n",
    "        ssc_feat = psf.ssc(sound_arr, samplerate=sr, winlen=0.02, nfft = 2*441, nfilt=26)\n",
    "        full_feat = np.concatenate([mfcc_feat, logfbank_feat, ssc_feat], axis=1)\n",
    "        if full_feat.shape[0] < segment_length:\n",
    "            print(file)\n",
    "            continue\n",
    "        # GENERATE A SET OF LABELS, IT CAN EITHER BE A SILENCE, OR A VOWEL\n",
    "        labels = []\n",
    "        for i in range(0, full_feat.shape[0]):\n",
    "            seg = sound_arr[i*441:(i+1)*441]\n",
    "            if np.abs(seg).mean() <= silence_threshold:\n",
    "                \n",
    "                labels.append(5)\n",
    "            else:\n",
    "                labels.append(label)\n",
    "        labels = np.array(labels)\n",
    "        split = np.floor(len(labels) / segment_length)\n",
    "        for i in range(0, int(split)):\n",
    "            np.save(os.path.join(output_path_test, \"{}_data.npy\".format(counter)), full_feat[i*segment_length:(i+1)*segment_length])\n",
    "            np.save(os.path.join(output_path_test, \"{}_label.npy\".format(counter)), labels[i*segment_length:(i+1)*segment_length])\n",
    "            testing_annotation_file.append([os.path.join(output_path_test, \"{}_data.npy\".format(counter)), \n",
    "                                            os.path.join(output_path_test, \"{}_label.npy\".format(counter))])\n",
    "            counter = counter + 1\n",
    "        np.save(os.path.join(output_path_test, \"{}_data.npy\".format(counter)), full_feat[-segment_length:])\n",
    "        np.save(os.path.join(output_path_test, \"{}_label.npy\".format(counter)), labels[-segment_length:])\n",
    "        testing_annotation_file.append([os.path.join(output_path_test, \"{}_data.npy\".format(counter)), \n",
    "                                            os.path.join(output_path_test, \"{}_label.npy\".format(counter))])\n",
    "        counter = counter + 1\n",
    "\n",
    "with open(os.path.join(output_path_test, 'annotations.csv'), 'w', newline='') as csvfile:\n",
    "    spamwriter = csv.writer(csvfile, delimiter=',')\n",
    "    for item in range(0, len(testing_annotation_file)):\n",
    "        spamwriter.writerow(testing_annotation_file[item])\n",
    "# M.shape = [time in 0.01 sec, number of mel features]\n"
   ]
  },
  {
   "cell_type": "markdown",
   "metadata": {},
   "source": [
    "### 1.4 Accomodate the annotation file so it also works on my windows PC"
   ]
  },
  {
   "cell_type": "code",
   "execution_count": null,
   "metadata": {
    "scrolled": true
   },
   "outputs": [],
   "source": [
    "test_csv = os.path.join(output_path_test, 'annotations_mac.csv')\n",
    "with open(test_csv) as file:\n",
    "    str_content = file.read()\n",
    "content = str_content.split(\"\\n\")\n",
    "with open(os.path.join(output_path_test, 'annotations_win.csv'), 'w', newline='') as csvfile:\n",
    "    spamwriter = csv.writer(csvfile, delimiter=',')\n",
    "    for item in content:\n",
    "        try:\n",
    "            data, label = item.split(\",\")\n",
    "        except:\n",
    "            print(\"failed at this row \" + item)\n",
    "        data = os.path.join(\"E:\", data[19:])\n",
    "        label = os.path.join(\"E:\", label[19:])\n",
    "        spamwriter.writerow([data, label])\n",
    "\n",
    "train_csv = os.path.join(output_path_train, 'annotations_mac.csv')\n",
    "with open(train_csv) as file:\n",
    "    str_content = file.read()\n",
    "content = str_content.split(\"\\n\")\n",
    "with open(os.path.join(output_path_train, 'annotations_win.csv'), 'w', newline='') as csvfile:\n",
    "    spamwriter = csv.writer(csvfile, delimiter=',')\n",
    "    for item in content:\n",
    "        try:\n",
    "            data, label = item.split(\",\")\n",
    "        except:\n",
    "            print(\"failed at this row \" + item)\n",
    "        data = os.path.join(\"E:\", data[19:])\n",
    "        label = os.path.join(\"E:\", label[19:])\n",
    "        spamwriter.writerow([data, label])"
   ]
  },
  {
   "cell_type": "markdown",
   "metadata": {},
   "source": [
    "### 1.4B Accomodate the annotation file so it also works on DGP cluster"
   ]
  },
  {
   "cell_type": "code",
   "execution_count": null,
   "metadata": {},
   "outputs": [],
   "source": [
    "####################### run once #######################\n",
    "import csv, os\n",
    "output_path_test = os.path.join(dataset_root, \"test\")\n",
    "output_path_train = os.path.join(dataset_root, \"train\")\n",
    "test_csv = os.path.join(output_path_test, \"annotations.csv\")\n",
    "with open(test_csv) as file:\n",
    "    str_content = file.read()\n",
    "content = str_content.split(\"\\n\")\n",
    "with open(os.path.join(output_path_test, 'annotations_medusa.csv'), 'w', newline='') as csvfile:\n",
    "    spamwriter = csv.writer(csvfile, delimiter=',')\n",
    "    for item in content:\n",
    "        try:\n",
    "            data, label = item.split(\",\")\n",
    "        except:\n",
    "            print(\"failed at this row \" + item)\n",
    "            continue\n",
    "        data = os.path.join(\"~/home/Dataset/\", data.split(\"Dataset/\")[1])\n",
    "        label = os.path.join(\"~/home/Dataset/\", label.split(\"Dataset/\")[1])\n",
    "        spamwriter.writerow([data, label])\n",
    "train_csv = os.path.join(output_path_train, 'annotations.csv')\n",
    "with open(train_csv) as file:\n",
    "    str_content = file.read()\n",
    "content = str_content.split(\"\\n\")\n",
    "with open(os.path.join(output_path_train, 'annotations_medusa.csv'), 'w', newline='') as csvfile:\n",
    "    spamwriter = csv.writer(csvfile, delimiter=',')\n",
    "    for item in content:\n",
    "        try:\n",
    "            data, label = item.split(\",\")\n",
    "        except:\n",
    "            print(\"failed at this row \" + item)\n",
    "            continue\n",
    "        data = os.path.join(\"~/home/Dataset/\", data.split(\"Dataset/\")[1])\n",
    "        label = os.path.join(\"~/home/Dataset/\", label.split(\"Dataset/\")[1])\n",
    "        spamwriter.writerow([data, label])\n",
    "####################### run once #######################"
   ]
  },
  {
   "cell_type": "code",
   "execution_count": null,
   "metadata": {},
   "outputs": [],
   "source": [
    "np.load(\"C:/Users/evansamaa/Desktop/Dataset/train\\0_data.npy\")"
   ]
  },
  {
   "cell_type": "markdown",
   "metadata": {},
   "source": [
    "# 2. Training model"
   ]
  },
  {
   "cell_type": "code",
   "execution_count": 8,
   "metadata": {},
   "outputs": [],
   "source": [
    "import torch.nn as nn\n",
    "import torch\n",
    "import torch.nn.functional as F\n",
    "import torch.optim as optim\n",
    "import os\n",
    "import numpy as np\n",
    "from collections import OrderedDict\n",
    "import pandas as pd\n",
    "from torch.utils.data import DataLoader\n",
    "from torch.utils.data import Dataset\n",
    "from models.vowel_recognition_nodel import *"
   ]
  },
  {
   "cell_type": "markdown",
   "metadata": {},
   "source": [
    "### 2.1 Trying to overfit the model"
   ]
  },
  {
   "cell_type": "code",
   "execution_count": null,
   "metadata": {},
   "outputs": [],
   "source": [
    "# # trying to overfit the model\n",
    "overfit_models_dir = \"C:/Users/evansamaa/Desktop/Dataset/overfit/\"\n",
    "overfit_curve_save_path = \"C:/Users/evansamaa/Desktop/Dataset/overfit/train_accuracy_{}.npy\"\n",
    "overfit_model_save_path = \"C:/Users/evansamaa/Desktop/Dataset/overfit/model_{}.pt\"\n",
    "\n",
    "sen = 0\n",
    "ta = 0\n",
    "t_sen = 0\n",
    "t_ta = 0\n",
    "recording_loss = []\n",
    "recording_accuracy = []\n",
    "for sentence, tags in train_dataloader:\n",
    "    sen = sentence\n",
    "    ta = tags\n",
    "    break\n",
    "for sentence, tags in test_dataloader:\n",
    "    t_sen = sentence\n",
    "    t_ta = tags\n",
    "    break\n",
    "\n",
    "for epoch in range(epochs):\n",
    "    model.zero_grad()\n",
    "    vowel_prediction = model(sen)\n",
    "    vowel_prediction_flat = vowel_prediction.view([vowel_prediction.shape[0] * vowel_prediction.shape[1], -1])\n",
    "    target_flat = ta.view([ta.shape[0] * ta.shape[1], ])\n",
    "    # Step 4. Compute the loss, gradients, and update the parameters by\n",
    "    loss = loss_fn(vowel_prediction_flat, target_flat)\n",
    "    loss.backward()\n",
    "    optimizer.step()\n",
    "    loss_val = loss.data.numpy()\n",
    "    acc_val = accuracy(vowel_prediction_flat, target_flat).numpy()\n",
    "    print(\"epoch = \", epoch, \"\\t\\t\", \"loss = \", loss_val, \"\\t\\t\", \"accuracy = \", acc_val)\n",
    "    recording_loss.append(loss_val)\n",
    "    recording_accuracy.append(acc_val)\n",
    "    if epoch % 10 == 0:\n",
    "        if epoch > 150 and epoch % 50 == 0:\n",
    "            prev = np.array(recording_loss[-100:-50]).mean()\n",
    "            curr = np.array(recording_loss[-50:]).mean()\n",
    "            if prev - curr < 0 or abs(prev - curr) < 0.001:\n",
    "                break\n",
    "        with torch.no_grad():\n",
    "            vowel_prediction = model(t_sen)\n",
    "            vowel_prediction_flat = vowel_prediction.view([vowel_prediction.shape[0] * vowel_prediction.shape[1], -1])\n",
    "            target_flat = ta.view([t_ta.shape[0] * t_ta.shape[1], ])\n",
    "            # Step 4. Compute the loss, gradients, and update the parameters by\n",
    "            loss = loss_fn(vowel_prediction_flat, target_flat)\n",
    "            loss_val = loss.data.numpy()\n",
    "            acc_val = accuracy(vowel_prediction_flat, target_flat).numpy()\n",
    "            print(\"test loss = \", loss_val, \"\\t\\t\", \"test accuracy = \", acc_val)\n",
    "\n",
    "\n",
    "length = len(recording_loss)\n",
    "recording_loss = np.array(recording_loss).reshape([length, 1])\n",
    "recording_accuracy = np.array(recording_accuracy).reshape([length, 1])\n",
    "out = np.concatenate([recording_loss, recording_accuracy], axis=1)\n",
    "\n",
    "overfit_dir_nums = len(os.listdir(overfit_models_dir))\n",
    "np.save(overfit_curve_save_path.format(overfit_dir_nums/2), out)\n",
    "torch.save({\n",
    "    'model_state_dict': model.state_dict(),\n",
    "    'optimizer_state_dict': optimizer.state_dict(),\n",
    "    'final_loss': recording_loss[-1,0],\n",
    "    'accuracy': recording_accuracy[-1,0]\n",
    "}, overfit_model_save_path.format(overfit_dir_nums/2))"
   ]
  },
  {
   "cell_type": "code",
   "execution_count": null,
   "metadata": {},
   "outputs": [],
   "source": [
    "## 2.2 evaluate overfit model"
   ]
  },
  {
   "cell_type": "code",
   "execution_count": 28,
   "metadata": {},
   "outputs": [],
   "source": [
    "model = LSTM_vowel_recognizer()\n",
    "model.load_state_dict(torch.load(\"C:/Users/evansamaa/Desktop/Dataset/overfit/model_3.pt\")['model_state_dict'])\n",
    "testing_set = Custom_Dataset(os.path.join(\"C:/Users/evansamaa/Desktop/Dataset/test\", 'annotations.csv'))\n",
    "test_dataloader = DataLoader(testing_set, batch_size=64, shuffle=True)\n",
    "confusion = np.zeros((6,6))\n",
    "for sentence, tags in test_dataloader:\n",
    "    vowel_prediction = model(sentence)\n",
    "    break\n",
    "    vowel_prediction_flat = vowel_prediction.view([vowel_prediction.shape[0] * vowel_prediction.shape[1], -1])\n",
    "    target_flat = tags.view([tags.shape[0] * tags.shape[1], ])\n",
    "    confusion = build_confusion_matrix(vowel_prediction_flat, target_flat, confusion)\n",
    "    "
   ]
  },
  {
   "cell_type": "code",
   "execution_count": 35,
   "metadata": {},
   "outputs": [
    {
     "name": "stdout",
     "output_type": "stream",
     "text": [
      "tensor([0, 0, 0, 0, 0, 0, 0, 0, 0, 0, 0, 0, 0, 0, 0, 0, 0, 0, 0, 0, 0, 0, 0, 0,\n",
      "        0, 0, 0, 0, 0, 0, 0, 0, 0, 0, 0, 0, 0, 0, 0, 0, 0, 0, 0, 0, 0, 0, 0, 0,\n",
      "        0, 0, 0, 5, 0, 5, 5, 5, 5, 5, 5, 5, 5, 5, 5, 5, 5, 5, 5, 5, 5, 5, 5, 5,\n",
      "        5, 5, 5, 5, 5, 5, 5, 5, 5, 5, 5, 5, 5, 5, 5, 5, 5, 5, 5, 5, 5, 5, 5, 5,\n",
      "        5, 5, 5, 5, 5, 5, 5, 5, 5, 5, 5, 5, 5, 5, 5, 5, 5, 5, 5, 5, 5, 5, 5, 5,\n",
      "        5, 5, 5, 5, 5, 5, 5, 5, 5, 5, 5, 5, 5, 5, 5, 5, 5, 5, 5, 5, 5, 5, 5, 5,\n",
      "        5, 5, 5, 5, 5, 5])\n"
     ]
    },
    {
     "data": {
      "image/png": "[encoded data removed]",
      "text/plain": [
       "<Figure size 432x288 with 1 Axes>"
      ]
     },
     "metadata": {
      "needs_background": "light"
     },
     "output_type": "display_data"
    }
   ],
   "source": [
    "i = 1\n",
    "tags0 = tags[i]\n",
    "vowel_prediction0 = vowel_prediction[i]\n",
    "plt.imshow(vowel_prediction0.detach().numpy()[:20])\n",
    "print(tags[i])"
   ]
  },
  {
   "cell_type": "code",
   "execution_count": 27,
   "metadata": {
    "collapsed": true
   },
   "outputs": [
    {
     "data": {
      "text/plain": [
       "<AxesSubplot:>"
      ]
     },
     "execution_count": 27,
     "metadata": {},
     "output_type": "execute_result"
    },
    {
     "data": {
      "image/png": "[encoded data removed]",
      "text/plain": [
       "<Figure size 720x504 with 2 Axes>"
      ]
     },
     "metadata": {
      "needs_background": "light"
     },
     "output_type": "display_data"
    }
   ],
   "source": [
    "import seaborn as sn\n",
    "import pandas as pd\n",
    "import matplotlib.pyplot as plt\n",
    "\n",
    "norm_confusion = np.zeros(confusion.shape)\n",
    "for i in range(0, 6):\n",
    "    norm_confusion[:, i] = confusion[:, i] / confusion[:, i].sum()\n",
    "df_cm = pd.DataFrame(norm_confusion, index = [i for i in \"aeiou_\"],\n",
    "                  columns = [i for i in \"aeiou_\"])\n",
    "\n",
    "plt.figure(figsize = (10,7))\n",
    "sn.heatmap(df_cm, annot=True)"
   ]
  },
  {
   "cell_type": "code",
   "execution_count": 14,
   "metadata": {
    "collapsed": true
   },
   "outputs": [
    {
     "name": "stdout",
     "output_type": "stream",
     "text": [
      "[[67734. 70752. 67629. 68796. 71617. 62375.]\n",
      " [ 4036.  3697.  4574.  3717.  4525.  3751.]\n",
      " [14202. 16237. 14775. 15411. 14932. 14375.]\n",
      " [ 1678.  2160.  3345.  2333.  2621.  2428.]\n",
      " [35228. 32612. 34669. 37935. 36818. 31354.]\n",
      " [ 4137.  4433.  4710.  3766.  3773.  4315.]]\n"
     ]
    }
   ],
   "source": [
    "print(confusion)\n",
    "vowels_dict = {\"a\":0, \"e\":1, \"i\":2, \"o\":3, \"u\":4}"
   ]
  },
  {
   "cell_type": "code",
   "execution_count": 22,
   "metadata": {
    "scrolled": true
   },
   "outputs": [
    {
     "data": {
      "text/plain": [
       "[<matplotlib.lines.Line2D at 0x155012ae910>]"
      ]
     },
     "execution_count": 22,
     "metadata": {},
     "output_type": "execute_result"
    },
    {
     "data": {
      "image/png": "[encoded data removed]",
      "text/plain": [
       "<Figure size 432x288 with 1 Axes>"
      ]
     },
     "metadata": {
      "needs_background": "light"
     },
     "output_type": "display_data"
    }
   ],
   "source": [
    "plt.plot(training_curve[:,0])"
   ]
  },
  {
   "cell_type": "markdown",
   "metadata": {},
   "source": [
    "## Evaluating Trained Model"
   ]
  },
  {
   "cell_type": "code",
   "execution_count": 14,
   "metadata": {},
   "outputs": [],
   "source": [
    "cf_path = \"C:/Users/evansamaa/Desktop/Dataset/models/confusion_matrix_training_curve.npy\"\n",
    "confusion_matrix = np.load(cf_path)\n",
    "test_acc_path = \"C:/Users/evansamaa/Desktop/Dataset/models/test_accuracy_training_curve.npy\"\n",
    "test_acc = np.load(test_acc_path)\n",
    "train_loss_path = \"C:/Users/evansamaa/Desktop/Dataset/models/train_loss_training_curve.npy\"\n",
    "train_loss = np.load(train_loss_path)\n",
    "test_loss_path = \"C:/Users/evansamaa/Desktop/Dataset/models/test_loss_training_curve.npy\"\n",
    "test_loss = np.load(test_loss_path)"
   ]
  },
  {
   "cell_type": "code",
   "execution_count": 25,
   "metadata": {},
   "outputs": [
    {
     "name": "stdout",
     "output_type": "stream",
     "text": [
      "(90, 3)\n"
     ]
    },
    {
     "data": {
      "image/png": "[encoded data removed]",
      "text/plain": [
       "<Figure size 432x288 with 1 Axes>"
      ]
     },
     "metadata": {
      "needs_background": "light"
     },
     "output_type": "display_data"
    },
    {
     "data": {
      "image/png": "[encoded data removed]",
      "text/plain": [
       "<Figure size 432x288 with 2 Axes>"
      ]
     },
     "metadata": {
      "needs_background": "light"
     },
     "output_type": "display_data"
    }
   ],
   "source": [
    "plt.plot(test_loss[:, 0], test_loss[:, 1])\n",
    "plt.plot(train_loss[:, 0], train_loss[:, 1])\n",
    "print(test_loss.shape)\n",
    "\n",
    "# create figure and axis objects with subplots()\n",
    "fig,ax = plt.subplots()\n",
    "# make a plot\n",
    "ax.plot(test_loss[:, 0], test_loss[:, 1], label=\"test loss\", color = \"red\")\n",
    "ax.plot(train_loss[:, 0], train_loss[:, 1], label=\"train loss\", color = \"orange\")\n",
    "# set x-axis label\n",
    "plt.legend()\n",
    "ax.set_xlabel(\"epochs\",fontsize=14)\n",
    "# set y-axis label\n",
    "ax.set_ylabel(\"Cross Entropy Loss\")\n",
    "\n",
    "# twin object for two different y-axis on the sample plot\n",
    "ax2=ax.twinx()\n",
    "# make a plot with different y-axis using second axis object\n",
    "ax2.plot(test_acc[:, 0], test_acc[:, 1], label=\"test accuracy\", color = \"blue\")\n",
    "ax2.set_ylabel(\"accuracy\")\n",
    "plt.legend()\n",
    "plt.show()"
   ]
  },
  {
   "cell_type": "code",
   "execution_count": 28,
   "metadata": {
    "scrolled": true
   },
   "outputs": [
    {
     "name": "stdout",
     "output_type": "stream",
     "text": [
      "(1, 6, 6)\n"
     ]
    },
    {
     "data": {
      "text/plain": [
       "<AxesSubplot:>"
      ]
     },
     "execution_count": 28,
     "metadata": {},
     "output_type": "execute_result"
    },
    {
     "data": {
      "image/png": "[encoded data removed]",
      "text/plain": [
       "<Figure size 720x504 with 2 Axes>"
      ]
     },
     "metadata": {
      "needs_background": "light"
     },
     "output_type": "display_data"
    }
   ],
   "source": [
    "cf_path = \"C:/Users/evansamaa/Desktop/confusion_matrix_training_curve.npy\"\n",
    "confusion_matrix = np.load(cf_path)\n",
    "print(confusion_matrix.shape)\n",
    "last_confusion = confusion_matrix[-1,:,:]\n",
    "import seaborn as sn\n",
    "import pandas as pd\n",
    "import matplotlib.pyplot as plt\n",
    "\n",
    "norm_confusion = np.zeros(last_confusion.shape)\n",
    "for i in range(0, 6):\n",
    "    norm_confusion[i, :] = last_confusion[i, :] / last_confusion[i, :].sum()\n",
    "df_cm = pd.DataFrame(norm_confusion, index = [i for i in \"aeiou_\"],\n",
    "                  columns = [i for i in \"aeiou_\"])\n",
    "\n",
    "plt.figure(figsize = (10,7))\n",
    "sn.heatmap(df_cm, annot=True)"
   ]
  },
  {
   "cell_type": "markdown",
   "metadata": {},
   "source": [
    "## Qualitative evaluation of model"
   ]
  },
  {
   "cell_type": "code",
   "execution_count": 39,
   "metadata": {},
   "outputs": [],
   "source": [
    "import pickle"
   ]
  },
  {
   "cell_type": "code",
   "execution_count": 40,
   "metadata": {
    "scrolled": true
   },
   "outputs": [
    {
     "data": {
      "text/plain": [
       "array([0, 0, 0, 0, 0, 0, 0, 0, 0, 0, 0, 0, 0, 0, 0, 0, 0, 0, 0, 0, 0, 0,\n",
       "       0, 0, 0, 0, 0, 0, 0, 0, 0, 0, 0, 0, 0, 0, 0, 0, 0, 0, 0, 0, 0, 0,\n",
       "       0, 0, 0, 0, 0, 0, 0, 0, 0, 0, 0, 0, 0, 0, 0, 0, 0, 0, 0, 0, 0, 0,\n",
       "       5, 5, 5, 5, 5, 5, 5, 5, 5, 5, 5, 5, 5, 5, 5, 5, 5, 5, 5, 5, 5, 5,\n",
       "       5, 5, 5, 5, 5, 5, 5, 5, 5, 5, 5, 5, 5, 5, 5, 5, 5, 5, 5, 5, 5, 5,\n",
       "       5, 5, 5, 5, 5, 5, 5, 5, 5, 5, 5, 5, 5, 5, 5, 5, 5, 5, 5, 5, 5, 5,\n",
       "       5, 5, 5, 5, 5, 5, 5, 5, 5, 5, 5, 5, 5, 5, 5, 5, 5, 5])"
      ]
     },
     "execution_count": 40,
     "metadata": {},
     "output_type": "execute_result"
    }
   ],
   "source": [
    "np.load(\"C:/Users/evansamaa/Desktop/Dataset/train/4_label.npy\")"
   ]
  },
  {
   "cell_type": "code",
   "execution_count": 6,
   "metadata": {
    "scrolled": true
   },
   "outputs": [
    {
     "data": {
      "text/plain": [
       "<All keys matched successfully>"
      ]
     },
     "execution_count": 6,
     "metadata": {},
     "output_type": "execute_result"
    }
   ],
   "source": [
    "model = LSTM_vowel_recognizer_no_BN()\n",
    "cp = torch.load(\"C:/Users/evansamaa/Desktop/Dataset/models/model_epoch_2440.pt\", map_location=torch.device('cpu'))\n",
    "model.load_state_dict(cp['model_state_dict'])"
   ]
  },
  {
   "cell_type": "code",
   "execution_count": 7,
   "metadata": {},
   "outputs": [
    {
     "data": {
      "text/plain": [
       "<All keys matched successfully>"
      ]
     },
     "execution_count": 7,
     "metadata": {},
     "output_type": "execute_result"
    }
   ],
   "source": [
    "model2 = LSTM_vowel_recognizer_no_BN()\n",
    "cp = torch.load(\"C:/Users/evansamaa/Desktop/Dataset/models/model_epoch_3040.pt\", map_location=torch.device('cpu'))\n",
    "model2.load_state_dict(cp['model_state_dict'])"
   ]
  },
  {
   "cell_type": "code",
   "execution_count": 22,
   "metadata": {},
   "outputs": [
    {
     "name": "stdout",
     "output_type": "stream",
     "text": [
      "torch.Size([1, 286, 65])\n"
     ]
    }
   ],
   "source": [
    "audio_path = \"E:/MASC/VocalSet/FULL/female2/arpeggios/belt/f2_arpeggios_belt_a.wav\"\n",
    "audio_path = \"C:/Users/evansamaa/Desktop/E_I_E_I.wav\"\n",
    "sound_arr, sr= librosa.load(audio_path, sr = 44100)\n",
    "sound_arr = (sound_arr-sound_arr.mean())/sound_arr.std()\n",
    "winstep = 441\n",
    "mfcc_feat = psf.mfcc(sound_arr, samplerate=sr, winlen=0.02, nfft = 2*winstep, numcep=13)\n",
    "logfbank_feat = psf.logfbank(sound_arr, samplerate=sr, winlen=0.02, nfft = 2*winstep, nfilt=26)\n",
    "ssc_feat = psf.ssc(sound_arr, samplerate=sr, winlen=0.02, nfft = 2*winstep, nfilt=26)\n",
    "full_feat = np.concatenate([mfcc_feat, logfbank_feat, ssc_feat], axis=1)\n",
    "input_vec = torch.tensor(np.expand_dims(full_feat, axis=0), dtype=torch.float32)\n",
    "# input_vec = torch.tensor(np.load(\"C:/Users/evansamaa/Desktop/Dataset/test/1_data.npy\", allow_pickle=True), dtype=torch.float32)\n",
    "print(input_vec.shape)"
   ]
  },
  {
   "cell_type": "code",
   "execution_count": 23,
   "metadata": {},
   "outputs": [],
   "source": [
    "out = model.test_forward(input_vec).detach().numpy()[:, :500, :]"
   ]
  },
  {
   "cell_type": "code",
   "execution_count": 24,
   "metadata": {},
   "outputs": [],
   "source": [
    "out2 = model2.test_forward(input_vec).detach().numpy()[:, :500, :]"
   ]
  },
  {
   "cell_type": "code",
   "execution_count": 25,
   "metadata": {
    "scrolled": true
   },
   "outputs": [
    {
     "data": {
      "image/png": "[encoded data removed]",
      "text/plain": [
       "<Figure size 432x288 with 1 Axes>"
      ]
     },
     "metadata": {
      "needs_background": "light"
     },
     "output_type": "display_data"
    },
    {
     "data": {
      "text/plain": [
       "[]"
      ]
     },
     "execution_count": 25,
     "metadata": {},
     "output_type": "execute_result"
    },
    {
     "data": {
      "image/png": "[encoded data removed]",
      "text/plain": [
       "<Figure size 432x288 with 1 Axes>"
      ]
     },
     "metadata": {
      "needs_background": "light"
     },
     "output_type": "display_data"
    }
   ],
   "source": [
    "for i in range(0, 6):\n",
    "    plt.plot(out[0, :, i], label=\"aeiouX\"[i])\n",
    "# plt.plot(np.argmax(out[0, :], axis=1))\n",
    "plt.legend()\n",
    "plt.plot()\n",
    "plt.show()\n",
    "\n",
    "for i in range(0, 6):\n",
    "    plt.plot(out2[0, :, i], label=\"aeiouX\"[i])\n",
    "# plt.plot(np.argmax(out[0, :], axis=1))\n",
    "plt.legend()\n",
    "plt.plot()\n",
    "\n",
    "   "
   ]
  },
  {
   "cell_type": "code",
   "execution_count": null,
   "metadata": {},
   "outputs": [],
   "source": []
  },
  {
   "cell_type": "code",
   "execution_count": null,
   "metadata": {},
   "outputs": [],
   "source": []
  }
 ],
 "metadata": {
  "kernelspec": {
   "display_name": "visemenet",
   "language": "python",
   "name": "visemenet"
  },
  "language_info": {
   "codemirror_mode": {
    "name": "ipython",
    "version": 3
   },
   "file_extension": ".py",
   "mimetype": "text/x-python",
   "name": "python",
   "nbconvert_exporter": "python",
   "pygments_lexer": "ipython3",
   "version": "3.8.11"
  }
 },
 "nbformat": 4,
 "nbformat_minor": 2
}
