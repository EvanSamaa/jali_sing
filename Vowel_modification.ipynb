{
 "cells": [
  {
   "cell_type": "code",
   "execution_count": 6,
   "id": "32c8f46d",
   "metadata": {},
   "outputs": [],
   "source": [
    "from util.SongDataStructure import Minimal_song_data_structure\n",
    "from matplotlib import pyplot as plt\n",
    "import numpy as np\n",
    "from scipy.interpolate import interp1d\n",
    "import json"
   ]
  },
  {
   "cell_type": "code",
   "execution_count": 7,
   "id": "6a806bde",
   "metadata": {},
   "outputs": [],
   "source": [
    "from models.vowel_modification_detector import vowel_mod_detector\n",
    "vowel_mod = vowel_mod_detector()"
   ]
  },
  {
   "cell_type": "code",
   "execution_count": 8,
   "id": "861d88dc",
   "metadata": {},
   "outputs": [],
   "source": [
    "import librosa"
   ]
  },
  {
   "cell_type": "markdown",
   "id": "d623cb6a",
   "metadata": {},
   "source": [
    "# Input block"
   ]
  },
  {
   "cell_type": "code",
   "execution_count": 112,
   "id": "38cd857e",
   "metadata": {},
   "outputs": [],
   "source": [
    "viseme_list, viseme_interval = [['Ah_pointer', 'Ah_pointer', 'Ah_pointer'], [[[-0.04454296135109409, 0], [0.0754570386489059, 8], [0.9172593342532398, 6.0], [1.3178600994546845, 0]], [[1.5561014036241034, 0], [1.6761014036241033, 8], [2.3056231203369095, 6.0], [2.6354636925745116, 0]], [[3.0884255822893834, 0], [3.2084255822893835, 8], [3.6622668199195463, 6.0], [3.9335472324629337, 0]]]]\n",
    "\n",
    "audio_path = \"C:/Users/evansamaa/Desktop/vowel_model_dataset/A_I_A_I_A_I.wav\"\n",
    "textgrid_path = \"C:/Users/evansamaa/Desktop/vowel_model_dataset/A_I_A_I_A_I.TextGrid\"\n",
    "out_path = \"C:/Users/evansamaa/Desktop/vowel_model_dataset/A_I_A_I_A_I.json\"\n",
    "spike_width = 0.5"
   ]
  },
  {
   "cell_type": "code",
   "execution_count": 113,
   "id": "ee68142a",
   "metadata": {},
   "outputs": [],
   "source": [
    "vowel2Cardinal5 = {\"Ah_pointer\":0, \"Aa_pointer\":1, \"Eh_pointer\":1, \"Ee_pointer\":2, \n",
    "                 \"Ih_pointer\":2, \"Oo_pointer\":3, \"Oh_pointer\":3, \"Uh_pointer\":0, \n",
    "                  \"U_pointer\":4, \"Eu_pointer\":4}\n",
    "vowel2Cardinal3 = {\"Ah_pointer\":0, \"Aa_pointer\":1, \"Eh_pointer\":1, \"Ee_pointer\":1, \n",
    "                 \"Ih_pointer\":1, \"Oo_pointer\":2, \"Oh_pointer\":2, \"Uh_pointer\":0, \n",
    "                  \"U_pointer\":2, \"Eu_pointer\":2}\n",
    "\n",
    "control_direction_matrix_coarse = {0:{1:[\"Dimple\", \"Dimple\", [0, 7]], 2:[\"Pucker\", \"Pucker\", [0, 4]]},\n",
    "                                  1:{0:[\"Pucker\", \"Pucker\", [0, 1]], 2:[\"Pucker\", \"Pucker\", [0, 4]]},\n",
    "                                  2:{0:[\"self\", \"Lip Pucker\", [0, -3]], 1:[\"self\", \"Lip Pucker\", [0, -6],\n",
    "                                                                          \"Dimple\", \"Dimple\", [0, 7]]}}\n",
    "lyric = Minimal_song_data_structure(audio_path, \"\", txt_grid_path=textgrid_path)"
   ]
  },
  {
   "cell_type": "code",
   "execution_count": 126,
   "id": "2a768bea",
   "metadata": {
    "scrolled": true
   },
   "outputs": [],
   "source": [
    "modification_ctrl_pts = []\n",
    "modification_sliders = []\n",
    "# iterate through the vowels in the list\n",
    "dt = 0.01\n",
    "for i in range(0, len(viseme_list)):\n",
    "    ##################################################################\n",
    "    ###################### get the audio signal ######################\n",
    "    ##################################################################\n",
    "    vowel_mod_out, vowel_mod_out_coarse = vowel_mod(lyric.sound_arr_interp(np.arange(viseme_interval[i][1][0], \n",
    "                                                                                     viseme_interval[i][-1][0], 1.0/44100.0)))\n",
    "    xs = np.linspace(viseme_interval[i][1][0], viseme_interval[i][-1][0], vowel_mod_out_coarse.shape[0])\n",
    "    coarse_vowel_sounds_like_interp = interp1d(xs, vowel_mod_out_coarse, axis=0)\n",
    "    \n",
    "    # what the original sound was\n",
    "    original_vowel_shape = vowel2Cardinal3[viseme_list[i]]\n",
    "    only_peaks = np.where(vowel_mod_out_coarse > 0.7, vowel_mod_out_coarse, original_vowel_shape)\n",
    "    vowel_sounds_like = np.argmax(only_peaks, axis=1)\n",
    "    ##################################################################\n",
    "    ### obtain the intervals of which cardinal vowels are dominant ###\n",
    "    ##################################################################\n",
    "    cardinal_list = []\n",
    "    cardinal_intervals = []\n",
    "    current_interval_start = 0\n",
    "    current_vowel = original_vowel_shape\n",
    "    for t in range(0, vowel_sounds_like.shape[0]):\n",
    "        if vowel_sounds_like[t] == current_vowel:\n",
    "            if (t == vowel_sounds_like.shape[0]-1):\n",
    "                cardinal_list.append(current_vowel)\n",
    "                cardinal_intervals.append([current_interval_start, t])\n",
    "        else:\n",
    "            if xs[t-1] - xs[current_interval_start] >= 0.2:\n",
    "                cardinal_list.append(current_vowel)\n",
    "                cardinal_intervals.append([current_interval_start, t-1])\n",
    "                current_interval_start = t\n",
    "                current_vowel = vowel_sounds_like[t]\n",
    "    ###########################################################################\n",
    "    ######### optionally additional smoothing are added to this here ##########      \n",
    "    ###########################################################################\n",
    "    cardinal_list_new = []\n",
    "    cardinal_intervals_new = []\n",
    "    j = 0\n",
    "    while j < len(cardinal_list):\n",
    "        step = 1\n",
    "        if j == len(cardinal_list) - 1:\n",
    "            cardinal_list_new.append(cardinal_list[j])\n",
    "            cardinal_intervals_new.append(cardinal_intervals[j])\n",
    "        elif cardinal_list[j] == cardinal_list[j+1] and xs[cardinal_intervals[j+1][0]] - xs[cardinal_intervals[j][1]] <= spike_width:\n",
    "            cardinal_list_new.append(cardinal_list[j])\n",
    "            cardinal_intervals_new.append([cardinal_intervals[j][0], cardinal_intervals[j+1][1]])\n",
    "            step = 2\n",
    "        elif j < len(cardinal_list) - 2:\n",
    "            if (cardinal_list[j] == cardinal_list[j+2] and xs[cardinal_intervals[j+2][0]] - xs[cardinal_intervals[j][1]] <= spike_width \n",
    "                and cardinal_list[j+1] == original_vowel_shape):\n",
    "                cardinal_list_new.append(cardinal_list[j])\n",
    "                cardinal_intervals_new.append([cardinal_intervals[j][0], cardinal_intervals[j+2][1]])\n",
    "                step = 3\n",
    "        else:\n",
    "            cardinal_list_new.append(cardinal_list[j])\n",
    "            cardinal_intervals_new.append(cardinal_intervals[j])\n",
    "        j = j + step\n",
    "    cardinal_list = cardinal_list_new\n",
    "    cardinal_intervals = cardinal_intervals_new\n",
    "    \n",
    "    \n",
    "    # now set pucker/stretch values based on the detected sound\n",
    "    for c in range(0, len(cardinal_list)):\n",
    "        if original_vowel_shape == cardinal_list[c] or cardinal_list[c] == 3:\n",
    "            continue\n",
    "        else:\n",
    "            max_prob = coarse_vowel_sounds_like_interp(xs[cardinal_intervals[c][0]:cardinal_intervals[c][1]+1])[:, cardinal_list[c]].max()\n",
    "            slider_ct_pts = control_direction_matrix_coarse[original_vowel_shape][cardinal_list[c]]\n",
    "            for s in range(0, int(len(slider_ct_pts)/3)):\n",
    "                # add a starting keyframe and ending keyframe\n",
    "                modification_sliders.append([slider_ct_pts[0 + 3*s], slider_ct_pts[1 + 3*s]])\n",
    "                # the start of this curve should be earlier, e.g. at 75% of the previous interval\n",
    "                if c == 0:\n",
    "                    start_candidate = xs[cardinal_intervals[c][0]]-0.14\n",
    "                    start = max(start_candidate, xs[cardinal_intervals[c-1][0]])\n",
    "                else:\n",
    "                    start_candidate = (xs[cardinal_intervals[c-1][1]] - xs[cardinal_intervals[c-1][0]]) * 0.6 + xs[cardinal_intervals[c-1][0]]\n",
    "                    start_candidate = min(start_candidate, xs[cardinal_intervals[c-1][1]]-0.12)\n",
    "                    start = max(start_candidate, xs[cardinal_intervals[c-1][0]])\n",
    "                modification_ctrl_pts.append([start, 0])\n",
    "                modification_sliders.append([slider_ct_pts[0 + 3*s], slider_ct_pts[1 + 3*s]])\n",
    "                if c == len(cardinal_list) - 1:\n",
    "                    modification_ctrl_pts.append([xs[cardinal_intervals[c][1]], 0])\n",
    "                else:\n",
    "                    modification_ctrl_pts.append([viseme_interval[-1][0], 0])        \n",
    "                # add the peaks in the middle with the decay\n",
    "                slider_range = slider_ct_pts[2 + 3*s]\n",
    "                modification_sliders.append([slider_ct_pts[0 + 3*s], slider_ct_pts[1 + 3*s]])\n",
    "                modification_ctrl_pts.append([xs[cardinal_intervals[c][0]]-0.13, max_prob * (slider_range[1])])\n",
    "                modification_sliders.append([slider_ct_pts[0 + 3*s], slider_ct_pts[1 + 3*s]])\n",
    "                end_p75 = (xs[cardinal_intervals[c][1]] - xs[cardinal_intervals[c][0]]) * 0.75 + xs[cardinal_intervals[c][0]]\n",
    "                modification_ctrl_pts.append([end_p75, max_prob * (slider_range[1]) * 0.75])\n",
    "        "
   ]
  },
  {
   "cell_type": "code",
   "execution_count": 127,
   "id": "38288307",
   "metadata": {},
   "outputs": [],
   "source": [
    "output ={\"viseme\":[viseme_list, viseme_interval],\n",
    "#         \"brow\":[brow_movement, brow_ctrl_points, finer_brow_raise_ctrl_points, finer_brow_furrow_ctrl_points],\n",
    "#         \"blink\":[eye_movement, eye_ctrl_points],\n",
    "        \"vowel_mod\": [modification_sliders, modification_ctrl_pts],\n",
    "        \"jaw\":[[0, 6]],\n",
    "        \"lip\":[[0, 6]]}\n",
    "jsonoutput = json.dumps(output)\n",
    "with open(out_path, 'w') as outfile:\n",
    "    json.dump(jsonoutput, outfile)"
   ]
  },
  {
   "cell_type": "code",
   "execution_count": null,
   "id": "b6df42fe",
   "metadata": {},
   "outputs": [],
   "source": []
  },
  {
   "cell_type": "code",
   "execution_count": null,
   "id": "3f4d1fbf",
   "metadata": {},
   "outputs": [],
   "source": []
  }
 ],
 "metadata": {
  "kernelspec": {
   "display_name": "visemenet",
   "language": "python",
   "name": "visemenet"
  },
  "language_info": {
   "codemirror_mode": {
    "name": "ipython",
    "version": 3
   },
   "file_extension": ".py",
   "mimetype": "text/x-python",
   "name": "python",
   "nbconvert_exporter": "python",
   "pygments_lexer": "ipython3",
   "version": "3.8.11"
  }
 },
 "nbformat": 4,
 "nbformat_minor": 5
}
