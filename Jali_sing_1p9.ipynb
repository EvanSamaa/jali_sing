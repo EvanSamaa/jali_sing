{
 "cells": [
  {
   "cell_type": "code",
   "execution_count": 22,
   "metadata": {},
   "outputs": [],
   "source": [
    "VOICED = set(['AA', 'AE', 'AH', 'AO', 'AW', 'AY', 'EH', 'EY', 'IH', 'IY', 'OW', 'OY', 'UH', 'UW', \"ER\"])\n",
    "CMU2VISEME = {\"AA\":\"Ah\", \"AO\":\"Ah\", \"AY\":\"Ah\", \"AW\":\"Ah\",\"AE\":\"Eh\",\n",
    "              \"EY\":\"Eh\",\"UH\":\"Ah\", \"UW\":\"U\",\"IH\": \"Ih\",\"IY\": \"Ih\",\"EH\": \"Eh\",\"HH\": \"Eh\",\"UH\": \"U\",\"AH\": \"Ah\",\n",
    "              \"ER\": \"Eh\",\"OW\":\"Oo\",\"OY\":\"Oo\",\"R\":\"R\",\"D\":\"LNTD\",\"T\": \"LNTD\",\"L\":\"LNTD\",\"N\":\"LNTD\",\"NG\":\"LNTD\",\n",
    "              \"F\":\"FV\",\"V\":\"FV\",\"B\":\"BP\",\"M\":\"M\",\"P\":\"BP\",\"CH\":\"ShChZh\",\"SH\":\"ShChZh\",\"ZH\":\"ShChZh\",\n",
    "              \"S\": \"SZ\", \"Z\": \"SZ\",\"DH\":\"Th\", \"TH\":\"Th\",\"G\":\"GK\", \"K\":\"GK\",\"Y\":\"Y\",\"JH\":\"J\",\"W\":\"W\",}\n",
    "VOWELS_SLIDERS_JALI = set(['Ih_pointer', 'Ee_pointer', 'Eh_pointer', 'Aa_pointer', 'U_pointer', 'Uh_pointer'\n",
    "                           , 'Oo_pointer', 'Oh_pointer', 'Schwa_pointer', 'Eu_pointer', \"Ah_pointer\"])\n",
    "CONSONANTS_SLIDERS_JALI = set([\"M_pointer\", \"BP_pointer\", \"JY_pointer\", \"Th_pointer\", \"ShChZh_pointer\", \"SZ_pointer\", \"GK_pointer\", \"LNTD_pointer\", \"R_pointer\", \"W_pointer\", \"FV_pointer\"])\n",
    "CONSONANTS_SLIDERS_NOJAW_JALI = set([\"Ya_pointer\", \"Ja_pointer\", \"Ra_pointer\", \"FVa_pointer\", \"LNTDa_pointer\", \"Ma_pointer\", \"BPa_pointer\", \"Wa_pointer\", \"Tha_pointer\", \"GKa_pointer\"])\n",
    "JALI_SLIDERS_SET = set.union(VOWELS_SLIDERS_JALI, CONSONANTS_SLIDERS_JALI, CONSONANTS_SLIDERS_NOJAW_JALI)"
   ]
  },
  {
   "cell_type": "code",
   "execution_count": 23,
   "metadata": {},
   "outputs": [],
   "source": [
    "class CMU_phonemes_dicts():\n",
    "    def __init__(self):\n",
    "        self.vocabs = set(['AA', 'AE', 'AH', 'AO', 'AW', 'AY', 'B', 'CH', 'D', 'DH', 'EH', 'ER', 'EY', 'F', 'G',\n",
    "                  'HH', 'IH', 'IY', 'JH', 'K', 'L', 'M', 'N', 'NG', 'OW', 'OY', 'P', 'R', 'S', 'SH', 'T', 'TH', 'UH',\n",
    "                  'UW', 'V', 'W', 'Y', 'Z', 'ZH'])\n",
    "        self.vowels = set(['AA', 'AE', 'AH', 'AO', 'AW', 'AY', 'EH', 'ER', 'EY', \n",
    "                  'IH', 'IY', 'OW', 'OY', 'UH', 'UW', ])\n",
    "        self.voiced = set(['M', 'N']).union(self.vowels)\n",
    "        self.consonants = set(['B', 'CH', 'D', 'DH', 'F', 'G', 'HH', 'JH', 'K', 'L', 'M', 'N', 'NG', \n",
    "                              'P', 'R', 'S', 'SH', 'T', 'TH', 'V', 'W', 'Y', 'Z', 'ZH'])\n",
    "        self.consonants_no_jaw = self.consonants\n",
    "        self.lip_closer = set([\"B\", \"F\", \"M\", \"P\", \"S\", \"V\"])\n",
    "        self.lip_rounder = set([\"B\", \"F\", \"M\", \"P\", \"V\"])\n",
    "        self.nasal_obtruents = set(['L', 'N', 'NG', 'T', 'D', 'G', 'K', 'F', 'V', 'M', 'B', 'P'])\n",
    "        self.fricative = set([\"S\", \"Z\", \"ZH\", \"SH\", \"CH\", \"F\", \"V\", 'TH'])\n",
    "        self.plosive = set([\"P\", \"B\", \"D\", \"T\", \"K\", \"G\"])\n",
    "        self.lip_heavy = set([\"W\", \"OW\", \"UW\", \"S\", \"Z\", \"Y\", \"JH\", \"OY\"])\n",
    "        self.sibilant = set([\"S\", \"Z\", \"SH\", \"CH\", \"ZH\"])\n",
    "class JALI_visemes_dicts():\n",
    "     def __init__(self):\n",
    "        self.vowels = set(['Ih_pointer', 'Ee_pointer', 'Eh_pointer', 'Aa_pointer', 'U_pointer', 'Uh_pointer'\n",
    "                           , 'Oo_pointer', 'Oh_pointer', 'Schwa_pointer', 'Eu_pointer', \"Ah_pointer\"])\n",
    "        self.voiced = set(['Ih_pointer', 'Ee_pointer', 'Eh_pointer', 'Aa_pointer', 'U_pointer', 'Uh_pointer'\n",
    "                           , 'Oo_pointer', 'Oh_pointer', 'Schwa_pointer', 'Eu_pointer', \"Ah_pointer\", \"LNTD_pointer\", \"LNTDa_pointer\"])\n",
    "        self.consonants_no_jaw = set([\"Ya_pointer\", \"Ja_pointer\", \"Ra_pointer\", \"FVa_pointer\", \"LNTDa_pointer\", \"Ma_pointer\", \"BPa_pointer\", \"Wa_pointer\", \"Tha_pointer\", \"GKa_pointer\"])\n",
    "        self.consonants = set([\"M_pointer\", \"BP_pointer\", \"JY_pointer\", \"Th_pointer\", \"ShChZh_pointer\", \"SZ_pointer\", \"GK_pointer\", \"LNTD_pointer\", \"R_pointer\", \"W_pointer\", \"FV_pointer\"]) \n",
    "        self.lip_closer = set([\"M_pointer\", \"BP_pointer\", \"FV_pointer\", \"SZ_pointer\"])\n",
    "        self.lip_rounder = set([\"M_pointer\", \"BP_pointer\", \"FV_pointer\"])\n",
    "        self.vocabs = self.consonants.union(self.vowels).union(self.consonants_no_jaw)\n",
    "        self.sibilant = set([\"SZ_pointer\", \"ShChZh_pointer\"])\n",
    "        self.nasal_obtruents = set([\"LNTD_pointer\", \"GK_pointer\", \"FV_pointer\", \"M_pointer\", \"BP_pointer\"])\n",
    "        self.fricative = set([\"FV_pointer\", \"SZ_pointer\", \"ShChZh_pointer\", \"Th_pointer\"])\n",
    "        self.plosive = set([\"BP_pointer\", \"LNTDa_pointer\", \"GK_pointer\"])\n",
    "        self.lip_heavy = set([\"Oh_pointer\", \"W_pointer\", \"Wa_pointer\", \"U_pointer\", \"SZ_pointer\", \"JY_pointer\",\n",
    "                             \"Ya_pointer\", \"Ja_pointer\"])\n",
    "        self.lip_rounder_to_no_jaw_dict = {\"M_pointer\":\"Ma_pointer\", \"BP_pointer\":\"BPa_pointer\", \"FV_pointer\":\"FVa_pointer\"}\n",
    "cmu_sets = CMU_phonemes_dicts()\n",
    "jali_sets = JALI_visemes_dicts()"
   ]
  },
  {
   "cell_type": "code",
   "execution_count": 24,
   "metadata": {},
   "outputs": [],
   "source": [
    "def generate_basic_viseme_curve(start, end, value, sustain=1, decay = 0.75, onset=0.1, offset=0):\n",
    "    if end - start < 0.1:\n",
    "        end = start + 0.1\n",
    "    interval = []\n",
    "    interval.append([start-onset, 0])\n",
    "    # second point is when the belting starts \n",
    "    interval.append([start, 1 * value])\n",
    "    # third point emphasizes decay, it happens 75% down the interval\n",
    "    if sustain < 1:\n",
    "        interval.append([start + sustain * (end - start), decay * value])\n",
    "        # last point is where the furrowing ends\n",
    "        interval.append([end+offset, 0])\n",
    "    elif sustain == 1:\n",
    "        interval.append([end, value])\n",
    "        # last point is where the furrowing ends\n",
    "        interval.append([end+offset, 0])\n",
    "    return interval\n",
    "def get_kth_neighbour(input_list, i, k):\n",
    "    if i+k < 0 or i+k >= len(input_list):\n",
    "        return None\n",
    "    return input_list[i+k]"
   ]
  },
  {
   "cell_type": "code",
   "execution_count": 25,
   "metadata": {},
   "outputs": [],
   "source": [
    "from util.SongDataStructure import *\n",
    "from util.pitch_interval_estimation import *\n",
    "import numpy as np\n",
    "import json\n",
    "from matplotlib import pyplot as plt\n",
    "import os\n",
    "from scipy.interpolate import interp1d"
   ]
  },
  {
   "cell_type": "code",
   "execution_count": 26,
   "metadata": {},
   "outputs": [],
   "source": [
    "# load file for Jali\n",
    "dir = \"E:/MASC/Structured_data/rolling_in_the_deep_adele\"\n",
    "file_name_template = \"audio\"\n",
    "lyric = Minimal_song_data_structure(os.path.join(dir, file_name_template+\".wav\"), os.path.join(dir, file_name_template+\".txt\"),\n",
    "                                                                                             os.path.join(dir, \"audio_full.TextGrid\"))"
   ]
  },
  {
   "cell_type": "code",
   "execution_count": 27,
   "metadata": {},
   "outputs": [],
   "source": [
    "# break the thing into sentence structures\n",
    "sentences = []\n",
    "current_sentence = []\n",
    "for i in range(0, len(lyric.phoneme_list)):\n",
    "    if lyric.phoneme_list[i] == \"EOS_tag\":\n",
    "        sentences.append(current_sentence)\n",
    "        current_sentence = []\n",
    "    else:\n",
    "        current_sentence.append(i)\n",
    "        if i == len(lyric.phoneme_list) - 1:\n",
    "            sentences.append(current_sentence)\n",
    "sentences = sentences[1:] \n",
    "# sentence stores the indexes"
   ]
  },
  {
   "cell_type": "code",
   "execution_count": 28,
   "metadata": {},
   "outputs": [],
   "source": [
    "phoneme_list = lyric.phoneme_list\n",
    "phoneme_interval = lyric.phoneme_intervals"
   ]
  },
  {
   "cell_type": "code",
   "execution_count": 29,
   "metadata": {},
   "outputs": [],
   "source": [
    "# using tanh function to get a smooth curve\n",
    "def Viseme_A(peak=None, lowest=None):\n",
    "    if not peak is None:\n",
    "        total = np.log((1+peak)/(1-peak))/2\n",
    "        b = np.log((1+lowest)/(1-lowest))/2\n",
    "        a = total-b\n",
    "    else:\n",
    "        peak = 0.99\n",
    "        lowest = 0.6\n",
    "        total = np.log((1+peak)/(1-peak))/2\n",
    "        b = np.log((1+lowest)/(1-lowest))/2\n",
    "        a = total-b\n",
    "    def fn(val, val_max, val_min, max_val = 10):\n",
    "        val = (val - val_min) / (val_max - val_min)\n",
    "        print(val)\n",
    "#         return (lowest + val * ((peak - lowest)))*max_val\n",
    "        return np.tanh((val)*a+b) * max_val\n",
    "#         return (np.exp(val * 8)/np.exp(8) * (peak-lowest) + lowest) * max_val\n",
    "    return fn\n",
    "viseme_A = Viseme_A()"
   ]
  },
  {
   "cell_type": "code",
   "execution_count": 31,
   "metadata": {
    "scrolled": true
   },
   "outputs": [
    {
     "name": "stdout",
     "output_type": "stream",
     "text": [
      "3.8287154903995866\n",
      "3.9420488237329203\n"
     ]
    },
    {
     "data": {
      "image/png": "[encoded data removed]",
      "text/plain": [
       "<Figure size 432x288 with 1 Axes>"
      ]
     },
     "metadata": {
      "needs_background": "light"
     },
     "output_type": "display_data"
    },
    {
     "name": "stdout",
     "output_type": "stream",
     "text": [
      "0.7489787141591004\n",
      "0.7489787141591004\n",
      "0.7489787141591004\n",
      "0.8744893570795502\n",
      "1.0\n",
      "0.9985856323895229\n",
      "0.9971712647790459\n",
      "0.9747443818192114\n",
      "0.9523174988593763\n",
      "0.9672532533607361\n",
      "0.9821890078620957\n",
      "0.7516887355305839\n",
      "0.5211884631990725\n",
      "0.5070699984574493\n",
      "0.49295153371582606\n",
      "0.2640383705580972\n",
      "0.03512520740036827\n",
      "0.017738703815177642\n",
      "-0.05796509604271536\n"
     ]
    },
    {
     "data": {
      "image/png": "[encoded data removed]",
      "text/plain": [
       "<Figure size 432x288 with 1 Axes>"
      ]
     },
     "metadata": {
      "needs_background": "light"
     },
     "output_type": "display_data"
    },
    {
     "name": "stdout",
     "output_type": "stream",
     "text": [
      "0.5664351080700147\n",
      "0.5664351080700147\n",
      "0.5664351080700147\n",
      "0.6290012647726704\n",
      "0.6915674214753263\n",
      "0.6978437049703726\n",
      "0.7041199884654191\n",
      "0.8520599942327097\n",
      "1.0\n",
      "0.9920458732613082\n",
      "0.9840917465226159\n",
      "0.9844528574649679\n",
      "0.9848139684073198\n",
      "0.7149700928725663\n",
      "0.4451262173378127\n",
      "0.4102255288132055\n",
      "0.375324840288598\n",
      "0.416273916059432\n",
      "0.45722299183026566\n",
      "0.2286114959151327\n",
      "0.0\n",
      "0.011198364631344087\n",
      "0.12149510210120536\n"
     ]
    },
    {
     "data": {
      "image/png": "[encoded data removed]",
      "text/plain": [
       "<Figure size 432x288 with 1 Axes>"
      ]
     },
     "metadata": {
      "needs_background": "light"
     },
     "output_type": "display_data"
    },
    {
     "name": "stdout",
     "output_type": "stream",
     "text": [
      "0.5016932969286398\n",
      "0.5059309088230091\n",
      "0.5101685207173782\n",
      "0.7413246584096118\n",
      "0.9724807961018453\n",
      "0.9598332501277633\n",
      "0.9471857041536812\n",
      "0.9735928520768405\n",
      "1.0\n",
      "0.947282937294734\n",
      "0.7721674271840352\n"
     ]
    },
    {
     "data": {
      "image/png": "[encoded data removed]",
      "text/plain": [
       "<Figure size 432x288 with 1 Axes>"
      ]
     },
     "metadata": {
      "needs_background": "light"
     },
     "output_type": "display_data"
    },
    {
     "name": "stdout",
     "output_type": "stream",
     "text": [
      "1.0\n",
      "1.0\n",
      "1.0\n",
      "0.5\n",
      "0.0\n"
     ]
    },
    {
     "data": {
      "image/png": "[encoded data removed]",
      "text/plain": [
       "<Figure size 432x288 with 1 Axes>"
      ]
     },
     "metadata": {
      "needs_background": "light"
     },
     "output_type": "display_data"
    },
    {
     "name": "stdout",
     "output_type": "stream",
     "text": [
      "1.0\n",
      "1.0\n",
      "1.0\n",
      "1.2397281269342193\n",
      "1.4794562538684402\n",
      "1.302978122680742\n",
      "0.0\n"
     ]
    },
    {
     "data": {
      "image/png": "[encoded data removed]",
      "text/plain": [
       "<Figure size 432x288 with 1 Axes>"
      ]
     },
     "metadata": {
      "needs_background": "light"
     },
     "output_type": "display_data"
    },
    {
     "name": "stdout",
     "output_type": "stream",
     "text": [
      "1.0\n",
      "1.0\n",
      "1.0\n",
      "0.6549799763010021\n",
      "0.3099599526020044\n",
      "0.3167203266498155\n",
      "0.3234807006976266\n",
      "0.4410372843303223\n",
      "0.5585938679630187\n",
      "0.27929693398150973\n",
      "0.0\n",
      "0.019044411131008375\n",
      "0.028380522091022445\n"
     ]
    }
   ],
   "source": [
    "# animate only vowels and see how it goes\n",
    "viseme_list = []\n",
    "viseme_intervals = []\n",
    "pure_phoneme_list = []\n",
    "max_activation = 8\n",
    "# threshold_slope = 200 # for formants\n",
    "threshold_slope = 80 # for pitch\n",
    "\n",
    "\n",
    "for sentence in sentences:\n",
    "    sentence_pitch_x, sentence_pitch_y = lyric.get_f_interval([phoneme_interval[sentence[0]][0], \n",
    "                                                               phoneme_interval[sentence[-1]][1]])\n",
    "    sentence_percentiles = np.nanpercentile(sentence_pitch_y, [5, 95])\n",
    "    sentence_mean = sentence_pitch_y.mean()\n",
    "    sentence_min = sentence_percentiles[0]\n",
    "    sentence_max = sentence_percentiles[1]\n",
    "    for i in range(0, len(sentence)):\n",
    "        if phoneme_list[sentence[i]] != \"EOL\" and phoneme_list[sentence[i]] != \">\":\n",
    "            pure_phoneme_list.append(phoneme_list[sentence[i]])\n",
    "        if phoneme_list[sentence[i]] in VOICED:\n",
    "            xI, yI = lyric.get_I_interval(phoneme_interval[sentence[i]])\n",
    "            xf, yf = lyric.get_f_interval(phoneme_interval[sentence[i]])\n",
    "            xF, yF = lyric.get_F1_interval(phoneme_interval[sentence[i]])\n",
    "            length_of_interval = xI[-1] - xI[0] \n",
    "            if length_of_interval <= 0.35: # if the vowel is approximately a speech vowel, then it is handled like speech\n",
    "                onset = 0.12\n",
    "                offset = 0.12\n",
    "                if phoneme_list[sentence[i]] in cmu_sets.lip_heavy:\n",
    "                    onset = 0.16\n",
    "                    offset = 0.16\n",
    "                value = 7\n",
    "                sustain = 0.75\n",
    "                decay = 0.75\n",
    "                curve = generate_basic_viseme_curve(phoneme_interval[sentence[i]][0], phoneme_interval[sentence[i]][1], value, sustain=sustain, \n",
    "                                            decay = decay, onset=onset, offset=offset)\n",
    "                viseme_intervals.append(curve)\n",
    "                viseme_list.append(CMU2VISEME[phoneme_list[sentence[i]]] + \"_pointer\")\n",
    "            else:\n",
    "                onset = 0.12\n",
    "                offset = 0.12\n",
    "                if phoneme_list[sentence[i]] in cmu_sets.lip_heavy:\n",
    "                    onset = 0.16\n",
    "                    offset = 0.16\n",
    "                control_pts = []\n",
    "                vib = lyric.compute_vibrato_intervals(yf-savgol_filter(yf, 35, 1), xf, lyric.dt)\n",
    "                vib_interval_indexs = lyric.get_subarrays_indexes_from_time_interval(vib, xf)\n",
    "                for vib_int in vib_interval_indexs:\n",
    "                    yf[vib_int[0]:vib_int[1]] = yf[vib_int[0]:vib_int[1]].mean()\n",
    "                slopes_f, intervals_f = efficient_piece_wise_linear_intervals(xf, yf)\n",
    "                kpx_f, kpy_f = get_key_points(xf, yf, intervals_f, slopes_f)\n",
    "                plt.plot(kpx_f, kpy_f)\n",
    "                plt.plot(xf, yf)\n",
    "                plt.show()\n",
    "                # onset and offset of these would be the same as regular vowels \n",
    "                control_pts.append([phoneme_interval[sentence[i]][0] - onset, 0])\n",
    "                \n",
    "                # here I will determine the average pitch when singing this vowel. Which is used to \n",
    "                avg_pitch = 0\n",
    "                total_weight = 0\n",
    "                pitch_values = []\n",
    "                for si in range(0, len(slopes_f)):\n",
    "                    if abs(slopes_f[si]) <= threshold_slope:\n",
    "                        avg_pitch = avg_pitch + (yf[intervals_f[si][0]] * (intervals_f[si][1] - intervals_f[si][0]))\n",
    "                        pitch_values.append(yf[intervals_f[si][0]])\n",
    "                        total_weight = total_weight + (intervals_f[si][1] - intervals_f[si][0])\n",
    "                if avg_pitch == 0:\n",
    "                        avg_pitch = yf.mean()\n",
    "                        total_weight = 1\n",
    "                pitch_values = np.array(pitch_values)\n",
    "                avg_pitch = avg_pitch / total_weight\n",
    "                \n",
    "                # now find the first key point - i.e. the beginning of the first plateau\n",
    "                # the first key point is defined as the point where a plateau first appears \n",
    "                # it can also be the first point that reaches the same pitch as the first plateau\n",
    "                # this ensures that undetected vibrato will not mess up with the timing\n",
    "                # and cause the mouth to open too slowly \n",
    "                start = 0\n",
    "                for si in range(0, len(slopes_f)):\n",
    "                    if abs(slopes_f[si]) <= threshold_slope:\n",
    "                        interp_pitch = interp1d(kpx_f, kpy_f)\n",
    "                        start = si\n",
    "                        end_x_search = min(xf[intervals_f[si][0]], kpx_f[-1])\n",
    "                        begin_x_search = xf[intervals_f[0][0]]\n",
    "                        x_range = np.arange(begin_x_search, end_x_search, 0.01)\n",
    "                        f_range = interp_pitch(x_range)\n",
    "                        first_val = interp_pitch(xf[intervals_f[si][0]])\n",
    "                        for ssi in range(0, x_range.shape[0]-1):\n",
    "                            if ((f_range[ssi] < first_val) and  (f_range[ssi+1] >= first_val) \n",
    "                                or (f_range[ssi] >= first_val) and  (f_range[ssi+1] < first_val)):\n",
    "                                end_x_search = x_range[ssi]\n",
    "                                break\n",
    "#                         if yf.min() > sentence_mean:\n",
    "#                             viseme_A_alt = Viseme_A(0.8, 0.99)\n",
    "#                             val0 = viseme_A_alt(yf[intervals_f[si][0]], pitch_values.max(), yf.min())\n",
    "#                             val1 = viseme_A_alt(yf[intervals_f[si][1]], pitch_values.max(), yf.min())\n",
    "#                         else:\n",
    "#                             val0 = viseme_A(yf[intervals_f[si][0]], pitch_values.max(), yf.min())\n",
    "#                             val1 = viseme_A(yf[intervals_f[si][1]], pitch_values.max(), yf.min())\n",
    "                        val0 = viseme_A(yf[intervals_f[si][0]], pitch_values.max(), min(yf.min(), sentence_mean))\n",
    "                        val1 = viseme_A((yf[intervals_f[si][1]] + yf[intervals_f[si][0]])/2, pitch_values.max(), min(yf.min(), sentence_mean))\n",
    "\n",
    "                        dif = (xf[intervals_f[si][1]] - end_x_search) * 0.7\n",
    "                        control_pts.append([end_x_search, val0])\n",
    "                        control_pts.append([xf[intervals_f[si][0]] + dif, val1])                 \n",
    "                        break\n",
    "                        \n",
    "                \n",
    "                # now determine intermediate key-points that correlates with lipshape\n",
    "                for si in range(start+1, len(slopes_f)):\n",
    "#                     if yf.min() > sentence_mean:\n",
    "#                         viseme_A_alt = Viseme_A(0.8, 0.99)\n",
    "#                         val0 = viseme_A_alt(yf[intervals_f[si][0]], pitch_values.max(), yf.min())\n",
    "#                         val1 = viseme_A_alt(yf[intervals_f[si][1]], pitch_values.max(), yf.min())\n",
    "#                     else:\n",
    "#                         val0 = viseme_A(yf[intervals_f[si][0]], pitch_values.max(), yf.min())\n",
    "#                         val1 = viseme_A(yf[intervals_f[si][1]], pitch_values.max(), yf.min())\n",
    "                    val0 = viseme_A(yf[intervals_f[si][0]], pitch_values.max(), min(yf.min(), sentence_mean))\n",
    "                    val1 = viseme_A((yf[intervals_f[si][1]] + yf[intervals_f[si][0]])/2, pitch_values.max(), min(yf.min(), sentence_mean))\n",
    "                    dif = (xf[intervals_f[si][1]] - xf[intervals_f[si][0]]) * 0.7\n",
    "                    if abs(slopes_f[si]) <= threshold_slope:\n",
    "                        control_pts.append([xf[intervals_f[si][0]]-0.1, val0])\n",
    "                        control_pts.append([xf[intervals_f[si][0]] + dif, val1])\n",
    "                    \n",
    "                for si in range(len(slopes_f)-1, -1, -1):\n",
    "                    if abs(slopes_f[si]) <= threshold_slope:\n",
    "                        control_pts.append([xf[intervals_f[si][1]], viseme_A(yf[intervals_f[si][1]], \n",
    "                                                                             yf.max(), pitch_values.min())])\n",
    "                        break\n",
    "#                 plt.plot(xf, viseme_A(yf, pitch_values.min(), yf.max()))\n",
    "#                 plt.show()\n",
    "                control_pts.append([phoneme_interval[sentence[i]][1] + offset, 0])\n",
    "                viseme_intervals.append(control_pts)\n",
    "                viseme_list.append(CMU2VISEME[phoneme_list[sentence[i]]] + \"_pointer\")   \n",
    "                \n",
    "        ### Dealing with consonants here. I'm just going to insert them between without too much modification\n",
    "        ### it will about the same as pure Jali\n",
    "        elif phoneme_list[sentence[i]] in cmu_sets.consonants:\n",
    "            onset = 0.12\n",
    "            offset = 0.12\n",
    "            if CMU2VISEME[phoneme_list[sentence[i]]] in jali_sets.nasal_obtruents and phoneme_interval[sentence[i]][1] - phoneme_interval[sentence[i]][0] > 1/20:\n",
    "                viseme_jali = CMU2VISEME[phoneme_list[sentence[i]]] + \"_pointer\"\n",
    "            else:\n",
    "                if phoneme_list[sentence[i]] == \"HH\" or phoneme_list[sentence[i]] in cmu_sets.sibilant:\n",
    "                    viseme_jali = CMU2VISEME[phoneme_list[sentence[i]]] + \"_pointer\"\n",
    "                else:\n",
    "                    viseme_jali = CMU2VISEME[phoneme_list[sentence[i]]] + \"a_pointer\"\n",
    "            if viseme_jali in jali_sets.lip_heavy:\n",
    "                onset = 0.16\n",
    "                offset = 0.16\n",
    "            start = phoneme_interval[sentence[i]][0]\n",
    "            end = phoneme_interval[sentence[i]][1]\n",
    "            if (end - start) <= 0.1:\n",
    "                value = 6\n",
    "                sustain = 0.75\n",
    "                decay = 0.75\n",
    "            elif (end - start) <= 0.3:\n",
    "                value = 6\n",
    "                sustain = 0.75\n",
    "                decay = 0.75\n",
    "            else:\n",
    "                value = 8\n",
    "                sustain = 0.75\n",
    "                decay = 0.75\n",
    "            if phoneme_list[sentence[i]] in cmu_sets.lip_closer:\n",
    "                value = 10\n",
    "            viseme_curve = generate_basic_viseme_curve(start, end, value, sustain=sustain, decay=decay, onset=onset, offset=offset)\n",
    "            viseme_list.append(viseme_jali)\n",
    "            viseme_intervals.append(viseme_curve)   "
   ]
  },
  {
   "cell_type": "code",
   "execution_count": 32,
   "metadata": {},
   "outputs": [],
   "source": [
    "# create overlap between visemes so that they are more fluid\n",
    "for i in range(1, len(viseme_list)):\n",
    "    # re-order all the clips so that \n",
    "\n",
    "    if pure_phoneme_list[i] in cmu_sets.vowels:\n",
    "        prev_vowel = -1\n",
    "        for si in range(i-1, -1, -1):\n",
    "            if pure_phoneme_list[si] in cmu_sets.vowels:\n",
    "                prev_vowel = si\n",
    "                break\n",
    "        if prev_vowel > -1:\n",
    "            interval_i = viseme_intervals[i]\n",
    "            interval_i.sort(key=lambda x:x[0])\n",
    "            interval_prev = viseme_intervals[prev_vowel]\n",
    "            interval_prev.sort(key=lambda x:x[0])\n",
    "            if interval_i[0][0] <= interval_prev[-1][0]:\n",
    "                # there is an overlap\n",
    "                interval_prev[-2][0] = interval_i[1][0]\n",
    "                interval_prev[-1][0] = interval_i[1][0] + 0.12\n",
    "                viseme_intervals[prev_vowel] = interval_prev"
   ]
  },
  {
   "cell_type": "code",
   "execution_count": 33,
   "metadata": {},
   "outputs": [],
   "source": [
    "# enforce co-articulation rules of consonants\n",
    "viseme_list_final = []\n",
    "viseme_intervals_final = []\n",
    "i = 0;\n",
    "\n",
    "while i < len(viseme_list):\n",
    "    increment = 1\n",
    "    i_next = min(i + 1, len(viseme_list)-1)\n",
    "    if (viseme_list[i_next] == viseme_list[i]):\n",
    "        # remove repeated vowels or consonants\n",
    "        viseme_list_final.append(viseme_list[i_next])\n",
    "        int_curr = viseme_intervals[i]\n",
    "        int_next = viseme_intervals[i_next]\n",
    "        viseme_interval = [int_curr[0], [int_curr[1][0], max(int_curr[1][1], int_next[1][1])], \n",
    "                           [int_next[2][0], max(int_curr[2][1], int_next[2][1])], int_next[3]]\n",
    "        viseme_intervals_final.append(viseme_interval)\n",
    "        if viseme_list[i_next] in jali_sets.lip_rounder:\n",
    "            viseme_list_final.append(jali_sets.lip_rounder_no_jaw_dict[viseme_list[i_next]])\n",
    "            viseme_intervals_final.append(viseme_interval)\n",
    "        increment = 2\n",
    "    elif viseme_list[i] in jali_sets.lip_heavy:\n",
    "        # if the viseme is a lip-heavy viseme, the it is voice simutaneously as nearby labial dental and bilabials \n",
    "        current_interval = viseme_intervals[i] \n",
    "        if not get_kth_neighbour(viseme_list, i, -1) is None:\n",
    "            if current_interval[0][0] <= viseme_intervals[i-1][-1][0] - lyric.dt and viseme_intervals[i-1][-1][0] in jali_sets.lip_rounder:\n",
    "                current_interval[0][0] = viseme_intervals[i-1][0][0]\n",
    "                current_interval[1][0] = viseme_intervals[i-1][1][0]\n",
    "        if not get_kth_neighbour(viseme_list, i, +1) is None:\n",
    "            if current_interval[-1][0] <= viseme_intervals[i+1][0][0] - lyric.dt and viseme_intervals[i+1][-1][0] in jali_sets.lip_rounder:\n",
    "                current_interval[2][0] = viseme_intervals[i+1][0][0]\n",
    "                current_interval[3][0] = viseme_intervals[i+1][1][0]\n",
    "        viseme_list_final.append(viseme_list[i])\n",
    "        viseme_intervals_final.append(current_interval)\n",
    "        if viseme_list[i] in jali_sets.lip_rounder:\n",
    "            viseme_list_final.append(jali_sets.lip_rounder_no_jaw_dict[viseme_list[i]])\n",
    "            viseme_intervals_final.append(current_interval)\n",
    "    else:\n",
    "        viseme_list_final.append(viseme_list[i])\n",
    "        viseme_intervals_final.append(viseme_intervals[i])\n",
    "        if viseme_list[i] in jali_sets.lip_rounder:\n",
    "            viseme_list_final.append(jali_sets.lip_rounder_no_jaw_dict[viseme_list[i]])\n",
    "            viseme_intervals_final.append(viseme_intervals[i])\n",
    "    i = i + increment"
   ]
  },
  {
   "cell_type": "code",
   "execution_count": 34,
   "metadata": {},
   "outputs": [],
   "source": [
    "for i in range(0, len(viseme_list_final)-1):\n",
    "    # re-order all the clips so that \n",
    "    if pure_phoneme_list[i] in cmu_sets.vowels:\n",
    "        next_vowel = -1\n",
    "        for si in range(i+1, len(viseme_list_final)):\n",
    "            if pure_phoneme_list[si] in cmu_sets.vowels:\n",
    "                next_vowel = si\n",
    "                break\n",
    "        if next_vowel > -1:\n",
    "            interval_i = viseme_intervals_final[i]\n",
    "            interval_i.sort(key=lambda x:x[0])\n",
    "            interval_next = viseme_intervals_final[next_vowel]\n",
    "            interval_next.sort(key=lambda x:x[0])\n",
    "            if interval_i[-1][0] <= interval_next[0][0]:\n",
    "                # there is no overlap \n",
    "                interval_i[-1][1] = interval_i[-2][1]/2\n",
    "                interval_i.append([interval_next[0][0], interval_i[-1][1] * 0.75])\n",
    "                interval_i.append([interval_next[1][0], 0])\n",
    "                viseme_intervals_final[i] = interval_i"
   ]
  },
  {
   "cell_type": "code",
   "execution_count": 38,
   "metadata": {},
   "outputs": [
    {
     "name": "stdout",
     "output_type": "stream",
     "text": [
      "[[0.6184294239750909, 0], [0.7384294239750909, 7], [0.9692772444213805, 5.25], [1.0892772444213805, 2.625], [1.149379411001557, 1.96875], [1.269379411001557, 0]]\n",
      "[[1.4587154903995851, 0], [1.598715490399585, 9.735559752924386], [1.9307154903995851, 9.735559752924386], [1.9687154903995854, 9.9], [2.719715490399586, 9.899448661370911], [2.908715490399586, 9.879645344510585], [3.5127154903995867, 9.8864288099102], [3.7287154903995865, 9.368058162105026], [4.2487154903995865, 9.33341473532821], [4.428715490399587, 5.226015117061928], [4.588930202387131, 0]]\n",
      "[[6.093018030263717, 0], [6.213018030263717, 7], [6.474335433669859, 5.25], [6.594335433669859, 0]]\n",
      "[[10.340750000000002, 0], [10.46075, 7], [10.748750000000001, 5.25], [10.748750000000001, 7], [11.11675, 5.25], [11.236749999999999, 0]]\n",
      "[[11.23991188906449, 0], [11.35991188906449, 9.319745092452479], [11.716911889064482, 9.330541051687943], [11.77991188906448, 9.888712091778578], [12.369911889064468, 9.883107713921708], [12.479911889064464, 9.877222845964347], [12.589911889064462, 9.9], [12.656911889064462, 9.889191895068029], [12.864911889064459, 9.877269192863846], [12.97275, 9.758187492799172], [13.092749999999999, 0]]\n",
      "[[12.85275, 0], [12.97275, 7], [13.21275, 5.25], [13.21275, 7], [13.57475, 5.25], [13.694749999999999, 0]]\n",
      "[[15.203080204141306, 0], [15.323080204141306, 7], [15.566092359767891, 5.25], [15.68609235976789, 2.625], [15.7095, 1.96875], [15.8295, 0]]\n",
      "[[17.977088491295937, 0], [18.09708849129594, 7], [18.367500000000003, 5.25], [18.487500000000004, 0]]\n"
     ]
    }
   ],
   "source": [
    "for i in range(0, len(viseme_list_final_final)):\n",
    "    if viseme_list_final_final[i] == \"Ah_pointer\":\n",
    "        print(viseme_intervals_final_final[i])\n"
   ]
  },
  {
   "cell_type": "code",
   "execution_count": 35,
   "metadata": {},
   "outputs": [],
   "source": [
    "# pass 3\n",
    "# set this up\n",
    "prev_slider_dict = {}\n",
    "for i in range(0, len(list(jali_sets.vocabs))):\n",
    "    prev_slider_dict[list(jali_sets.vocabs)[i]] = -1\n",
    "viseme_list_final_final = []\n",
    "viseme_intervals_final_final = []\n",
    "i = 0  \n",
    "while i < len(viseme_list_final):\n",
    "    increment = 1\n",
    "    prev_viseme = viseme_list_final[i]\n",
    "    # if the previous instance of the current viseme is not -1\n",
    "    if prev_slider_dict[viseme_list_final[i]] != -1:\n",
    "        current_interval = viseme_intervals_final[i]\n",
    "        prev_interval = viseme_intervals_final_final[prev_slider_dict[viseme_list_final[i]]]\n",
    "        if (current_interval[1][0] >= prev_interval[2][0] and current_interval[0][0] <= prev_interval[3][0]):\n",
    "            interval = prev_interval[:-1] + current_interval[1:]\n",
    "            viseme_intervals_final_final[prev_slider_dict[viseme_list_final[i]]] = interval\n",
    "        elif (current_interval[1][0] <= prev_interval[2][0]):\n",
    "            interval = prev_interval[0:-2] + current_interval[1:]\n",
    "            viseme_intervals_final_final[prev_slider_dict[viseme_list_final[i]]] = interval\n",
    "        else:\n",
    "            viseme_list_final_final.append(viseme_list_final[i])\n",
    "            viseme_intervals_final_final.append(viseme_intervals_final[i])\n",
    "                \n",
    "    else:        \n",
    "        viseme_list_final_final.append(viseme_list_final[i])\n",
    "        viseme_intervals_final_final.append(viseme_intervals_final[i])\n",
    "        \n",
    "    prev_slider_dict[viseme_list_final[i]] = len(viseme_list_final_final) - 1\n",
    "    i = i + increment"
   ]
  },
  {
   "cell_type": "code",
   "execution_count": 36,
   "metadata": {},
   "outputs": [],
   "source": [
    "lyric.compute_self_vibrato_intervals()\n",
    "vib_ctrl_pts = []\n",
    "for k in lyric.vibrato_intervals:\n",
    "    if len(k) > 0:\n",
    "        for m in k:\n",
    "            vib_ctrl_pts.append(m)\n"
   ]
  },
  {
   "cell_type": "code",
   "execution_count": 37,
   "metadata": {},
   "outputs": [],
   "source": [
    "output ={\"viseme\":[viseme_list_final_final, viseme_intervals_final_final],\n",
    "#         \"brow\":[brow_movement, brow_ctrl_points, finer_brow_raise_ctrl_points, finer_brow_furrow_ctrl_points],\n",
    "#         \"blink\":[eye_movement, eye_ctrl_points],\n",
    "        \"jaw\":[[0, 6]],\n",
    "        \"lip\":[[0, 6]], \n",
    "        \"vib\":vib_ctrl_pts}\n",
    "jsonoutput = json.dumps(output)\n",
    "with open(os.path.join(dir, file_name_template+'_jali_sing_2.json'), 'w') as outfile:\n",
    "    json.dump(jsonoutput, outfile)"
   ]
  },
  {
   "cell_type": "code",
   "execution_count": null,
   "metadata": {},
   "outputs": [],
   "source": []
  },
  {
   "cell_type": "code",
   "execution_count": null,
   "metadata": {},
   "outputs": [],
   "source": []
  }
 ],
 "metadata": {
  "kernelspec": {
   "display_name": "visemenet",
   "language": "python",
   "name": "visemenet"
  },
  "language_info": {
   "codemirror_mode": {
    "name": "ipython",
    "version": 3
   },
   "file_extension": ".py",
   "mimetype": "text/x-python",
   "name": "python",
   "nbconvert_exporter": "python",
   "pygments_lexer": "ipython3",
   "version": "3.8.11"
  }
 },
 "nbformat": 4,
 "nbformat_minor": 4
}
